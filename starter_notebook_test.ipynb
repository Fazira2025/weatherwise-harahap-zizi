{
 "cells": [
  {
   "cell_type": "markdown",
   "id": "72e78a05",
   "metadata": {
    "id": "72e78a05"
   },
   "source": [
    "# 🌦️ WeatherWise – Starter Notebook\n",
    "\n",
    "Welcome to your **WeatherWise** project notebook! This scaffold is designed to help you build your weather advisor app using Python, visualisations, and AI-enhanced development.\n",
    "\n",
    "---\n",
    "\n",
    "\n"
   ]
  },
  {
   "cell_type": "markdown",
   "id": "1523478f-fdda-47fb-90c0-ba39ab0db68b",
   "metadata": {
    "id": "72e78a05"
   },
   "source": [
    "# 🌦️ WeatherWise – Starter Notebook\n",
    "\n",
    "Welcome to your **WeatherWise** project notebook! This scaffold is designed to help you build your weather advisor app using Python, visualisations, and AI-enhanced development.\n",
    "\n",
    "---\n",
    "\n",
    "\n"
   ]
  },
  {
   "cell_type": "code",
   "execution_count": null,
   "id": "70c3f3f1",
   "metadata": {
    "id": "70c3f3f1"
   },
   "outputs": [],
   "source": [
    "# 🧪 Optional packages — uncomment if needed in Colab or JupyterHub\n",
    "!pip install request\n",
    "!pip install ipywidgets\n",
    "!pip install matplotlib"
   ]
  },
  {
   "cell_type": "markdown",
   "id": "59ae7543",
   "metadata": {
    "id": "59ae7543"
   },
   "source": [
    "## 📦 Setup and Configuration\n",
    "Import required packages and setup environment."
   ]
  },
  {
   "cell_type": "code",
   "execution_count": 2,
   "id": "f1dd051e",
   "metadata": {
    "id": "f1dd051e"
   },
   "outputs": [],
   "source": [
    "import requests\n",
    "import json\n",
    "import re\n",
    "from datetime import datetime, timedelta\n",
    "import ipywidgets as widgets\n",
    "from IPython.display import display, clear_output\n",
    "import matplotlib.pyplot as plt"
   ]
  },
  {
   "cell_type": "markdown",
   "id": "f736ade3",
   "metadata": {
    "id": "f736ade3"
   },
   "source": [
    "## 🌤️ Weather Data Functions"
   ]
  },
  {
   "cell_type": "code",
   "execution_count": 3,
   "id": "7a2c7cd0",
   "metadata": {
    "id": "7a2c7cd0"
   },
   "outputs": [],
   "source": [
    "# Define get_weather_data() function here\n",
    "def get_weather_data(location, format_type=\"text\"):\n",
    "    try:\n",
    "        # Set URL based on format type\n",
    "        if format_type.lower() == \"json\":\n",
    "            url = f'https://wttr.in/{location}?format=j1'\n",
    "        else:  # default to text\n",
    "            url = f'https://wttr.in/{location}'\n",
    "\n",
    "        response = requests.get(url)\n",
    "        response.raise_for_status()\n",
    "\n",
    "        if format_type.lower() == \"json\":\n",
    "            # Parse and return the JSON response\n",
    "            return response.json()\n",
    "        else:\n",
    "            # Print the text response as you were doing before\n",
    "            print(response.text)\n",
    "            return None\n",
    "\n",
    "    except requests.exceptions.HTTPError as errh:\n",
    "        print(f'HTTP Error: {errh}')\n",
    "    except requests.exceptions.ConnectionError as errc:\n",
    "        print(f'Connection Error: {errc}')\n",
    "    except requests.exceptions.Timeout as errt:\n",
    "        print(f'Timeout Error: {errt}')\n",
    "    except requests.exceptions.RequestException as err:\n",
    "        print(f'Error: {err}')\n",
    "    except json.JSONDecodeError as jerr:\n",
    "        if format_type.lower() == \"json\":\n",
    "            print(f'JSON Decode Error: {jerr}')\n",
    "\n",
    "    return None"
   ]
  },
  {
   "cell_type": "markdown",
   "id": "8a744fdc",
   "metadata": {
    "id": "8a744fdc"
   },
   "source": [
    "## 📊 Visualisation Functions"
   ]
  },
  {
   "cell_type": "code",
   "execution_count": 4,
   "id": "9dc3bf85",
   "metadata": {
    "id": "9dc3bf85"
   },
   "outputs": [],
   "source": [
    "# Define create_temperature_visualisation() and create_precipitation_visualisation() here\n",
    "#create weather emojis-------------------------------------------------------\n",
    "\n",
    "def get_weather_emoji(weather_description):\n",
    "    \"\"\"Return an emoji based on the weather description\"\"\"\n",
    "    weather_lower = weather_description.lower()\n",
    "\n",
    "    # Define specific keywords for each weather condition #list_dictionary\n",
    "    rain_keywords = ['rain', 'drizzle', 'shower', 'thundery outbreaks', 'downpour', 'wet']\n",
    "    snow_keywords = ['snow', 'blizzard', 'sleet', 'ice', 'hail', 'flurry']\n",
    "    cloud_keywords = ['cloud', 'overcast', 'mist', 'fog', 'haze', 'partly cloudy', 'scattered clouds']\n",
    "    sun_keywords = ['sunny', 'clear', 'fair', 'hot', 'bright', 'clear skies', 'clear weather']\n",
    "    wind_keywords = ['wind', 'gale', 'storm', 'breeze', 'gust']\n",
    "\n",
    "    # Rain conditions\n",
    "    if any(word in weather_lower for word in rain_keywords):\n",
    "        if 'thunder' in weather_lower or 'storm' in weather_lower or 'thundery outbreaks' in weather_lower:\n",
    "            return '⛈️'  # Thunderstorm\n",
    "        elif 'light' in weather_lower or 'patchy' in weather_lower:\n",
    "            return '🌦️'  # Sun behind rain cloud\n",
    "        else:\n",
    "            return '🌧️'  # Rain cloud\n",
    "\n",
    "    # Snow conditions\n",
    "    elif any(word in weather_lower for word in snow_keywords):\n",
    "        if 'light' in weather_lower or 'patchy' in weather_lower:\n",
    "            return '🌨️'  # Snow cloud\n",
    "        else:\n",
    "            return '❄️'  # Snowflake\n",
    "\n",
    "    # Cloud conditions\n",
    "    elif any(word in weather_lower for word in cloud_keywords):\n",
    "        if 'fog' in weather_lower or 'mist' in weather_lower:\n",
    "            return '🌫️'  # Fog\n",
    "        elif 'overcast' in weather_lower:\n",
    "            return '☁️'  # Cloudy weather\n",
    "        elif 'partly' in weather_lower or 'scattered' in weather_lower:\n",
    "            return '⛅'  # Sun behind cloud\n",
    "        else:\n",
    "            return '☁️'  # Cloud\n",
    "\n",
    "    # Clear conditions (sunny/fair weather)\n",
    "    elif any(word in weather_lower for word in sun_keywords):\n",
    "        return '☀️'  # Sun\n",
    "\n",
    "    # Wind conditions\n",
    "    elif any(word in weather_lower for word in wind_keywords):\n",
    "        return '💨'  # Wind blowing\n",
    "\n",
    "    # Default (unknown or undefined weather)\n",
    "    else:\n",
    "        return '🌡️'  # Thermometer (default)\n",
    "\n",
    "\n",
    "#create temperature visualisation using JSON--------------------------------\n",
    "\n",
    "def create_temperature_visualisation(location, target_date, return_data=False):\n",
    "    weather_data = get_weather_data(location, format_type=\"json\")\n",
    "    if not weather_data:\n",
    "        print(\"Unable to get weather data\")\n",
    "        return None if return_data else None\n",
    "\n",
    "    target_date_str = target_date.strftime(\"%Y-%m-%d\")\n",
    "\n",
    "    matched_day = None\n",
    "    for day in weather_data['weather']:\n",
    "        if day['date'] == target_date_str:\n",
    "            matched_day = day\n",
    "            break\n",
    "\n",
    "    if matched_day:\n",
    "        date_obj = datetime.strptime(matched_day['date'], \"%Y-%m-%d\")\n",
    "        formatted_date = date_obj.strftime(\"%A, %d %B\")\n",
    "\n",
    "        min_temp = int(matched_day['mintempC'])\n",
    "        max_temp = int(matched_day['maxtempC'])\n",
    "        avg_temp = int(matched_day['avgtempC'])\n",
    "        weather_desc = matched_day['hourly'][4]['weatherDesc'][0]['value']\n",
    "        weather_emoji = get_weather_emoji(weather_desc)\n",
    "\n",
    "        if not return_data:\n",
    "            print(\"\\n=== WEATHER CONDITION ===\")\n",
    "            print(f\"Date: {formatted_date}\")\n",
    "            print(f\"Weather: {weather_emoji} {weather_desc}\")\n",
    "            print(f\"Minimum Temperature: {min_temp}°C\")\n",
    "            print(f\"Maximum Temperature: {max_temp}°C\")\n",
    "            print(f\"Average Temperature: {avg_temp:.1f}°C\")\n",
    "            print(\"\\n\" + \"=\" * 50)\n",
    "        else:\n",
    "            return {\n",
    "                \"date\": formatted_date,\n",
    "                \"weather\": f\"{weather_emoji} {weather_desc}\",\n",
    "                \"min_temp\": min_temp,\n",
    "                \"max_temp\": max_temp,\n",
    "                \"avg_temp\": avg_temp\n",
    "            }\n",
    "    else:\n",
    "        if not return_data:\n",
    "            print(f\"No weather forecast available for {target_date.strftime('%A, %d %B')}\")\n",
    "        return None if return_data else None"
   ]
  },
  {
   "cell_type": "code",
   "execution_count": 5,
   "id": "HpOlQylYG5Ho",
   "metadata": {
    "id": "HpOlQylYG5Ho"
   },
   "outputs": [],
   "source": [
    "# Define create_precipitation_visualisation here\n",
    "def create_precipitation_visualisation(weather_data, location, day_index=0, output_type='display'):\n",
    "    # Ambil data hourly dari hari yang dipilih (biasanya 0,1,2)\n",
    "    hourly_data = weather_data['weather'][day_index]['hourly']\n",
    "\n",
    "    # Ambil jam (biasanya 8 data per hari: 0,3,6,9,12,15,18,21)\n",
    "    jam = [int(hour['time']) // 100 for hour in hourly_data]\n",
    "    precip = [float(hour['precipMM']) for hour in hourly_data]\n",
    "    chance = [int(hour['chanceofrain']) for hour in hourly_data]\n",
    "\n",
    "    import matplotlib.pyplot as plt\n",
    "\n",
    "    fig, ax1 = plt.subplots(figsize=(10,5))\n",
    "\n",
    "    ax1.plot(jam, precip, 'b-', marker='o', label='Precipitation (mm)')\n",
    "    ax1.set_xlabel('Hour (24h)')\n",
    "    ax1.set_ylabel('Precipitation (mm)', color='b')\n",
    "    ax1.tick_params(axis='y', labelcolor='b')\n",
    "\n",
    "    ax2 = ax1.twinx()\n",
    "    ax2.plot(jam, chance, 'r--', marker='x', label='Chance of Rain (%)')\n",
    "    ax2.set_ylabel('Chance of Rain (%)', color='r')\n",
    "    ax2.tick_params(axis='y', labelcolor='r')\n",
    "\n",
    "    plt.title(f'Current Graphical Representation of Precipitation and Rainfall Probability at {location})')\n",
    "    plt.xticks(jam)\n",
    "    fig.tight_layout()\n",
    "\n",
    "    plt.show()\n",
    "\n",
    "    plt.close()"
   ]
  },
  {
   "cell_type": "markdown",
   "id": "9f95d160",
   "metadata": {
    "id": "9f95d160"
   },
   "source": [
    "## 🤖 Natural Language Processing"
   ]
  },
  {
   "cell_type": "code",
   "execution_count": 7,
   "id": "bcc5833e",
   "metadata": {
    "id": "bcc5833e"
   },
   "outputs": [],
   "source": [
    "# Define parse_weather_question() and generate_weather_response() here\n",
    "def parse_weather_question(question, location):\n",
    "    # Definisikan pola regex untuk mendeteksi waktu\n",
    "    time_pattern = r\"(today|tomorrow|after[-\\s]?tomorrow|day[-\\s]?after[-\\s]?tomorrow)\"\n",
    "\n",
    "    # Daftar aktivitas outdoor dan indoor\n",
    "    outdoor_activities = r\"(run|swim|sports|tennis|cycling|hiking|jogging|fishing|camping|skiing|sailing|kayaking|gardening)\"\n",
    "    indoor_activities = r\"(cooking|reading|studying|watching movies|baking|painting|knitting|gaming|sleeping)\"\n",
    "\n",
    "    # Cari waktu dalam pertanyaan\n",
    "    time_match = re.search(time_pattern, question, re.IGNORECASE)\n",
    "\n",
    "    # Cari semua aktivitas outdoor\n",
    "    outdoor_matches = re.findall(outdoor_activities, question, re.IGNORECASE)\n",
    "    # Cari semua aktivitas indoor\n",
    "    indoor_matches = re.findall(indoor_activities, question, re.IGNORECASE)\n",
    "\n",
    "    # Default waktu ke \"today\" jika tidak ditemukan\n",
    "    time = \"today\"\n",
    "    activities = []  # Menyimpan aktivitas yang ditemukan\n",
    "    activity_types = []  # Menyimpan jenis aktivitas (indoor atau outdoor)\n",
    "\n",
    "    if time_match:\n",
    "        time = time_match.group(1).lower()  # Ambil waktu (today, tomorrow, after-tomorrow)\n",
    "\n",
    "    # Tambahkan aktivitas outdoor yang ditemukan\n",
    "    if outdoor_matches:\n",
    "        activities.extend(outdoor_matches)\n",
    "        activity_types.extend([\"Outdoor\"] * len(outdoor_matches))\n",
    "\n",
    "    # Tambahkan aktivitas indoor yang ditemukan\n",
    "    if indoor_matches:\n",
    "        activities.extend(indoor_matches)\n",
    "        activity_types.extend([\"Indoor\"] * len(indoor_matches))\n",
    "\n",
    "    # Tentukan tanggal berdasarkan waktu yang disebutkan\n",
    "    target_date = datetime.now()\n",
    "\n",
    "    if time == \"today\":\n",
    "        # Just use the current date without modifying it.\n",
    "        target_date = target_date.replace(hour=0, minute=0, second=0, microsecond=0)  # Set to midnight of today\n",
    "    elif time == \"tomorrow\":\n",
    "        target_date += timedelta(days=1)\n",
    "        target_date = target_date.replace(hour=0, minute=0, second=0, microsecond=0)  # Set to midnight of tomorrow\n",
    "    elif time in [\"after tomorrow\", \"day after tomorrow\"]:\n",
    "        target_date += timedelta(days=2)\n",
    "        target_date = target_date.replace(hour=0, minute=0, second=0, microsecond=0)  # Set to midnight of the day after tomorrow\n",
    "\n",
    "    # Panggil fungsi untuk menampilkan cuaca berdasarkan lokasi dan tanggal\n",
    "    if location:\n",
    "        weather = create_temperature_visualisation(location, target_date, return_data=True)\n",
    "        if not weather:\n",
    "            print(\"No Data..\")\n",
    "            return\n",
    "\n",
    "        if activities:\n",
    "            for activity, activity_type in zip(activities, activity_types):\n",
    "                response = generate_weather_response(\n",
    "                    location=location,\n",
    "                    time = time,\n",
    "                    date_str=target_date.strftime('%A, %d %B %Y'),\n",
    "                    activity=activity,\n",
    "                    activity_type=activity_type,\n",
    "                    weather_desc=weather[\"weather\"],\n",
    "                    min_temp=weather[\"min_temp\"],\n",
    "                    max_temp=weather[\"max_temp\"],\n",
    "                    avg_temp=weather[\"avg_temp\"]\n",
    "                )\n",
    "                print(response)\n",
    "        else:\n",
    "            print(\"No specific activity mentioned.\")\n",
    "    else:\n",
    "        print(\"Please provide a valid location.\")\n",
    "\n",
    "\n",
    "  #get_weather_response----------------------------------------------------------\n",
    "def generate_weather_response(location, time ,date_str, activity, activity_type, weather_desc, min_temp, max_temp, avg_temp):\n",
    "    desc = weather_desc.lower()\n",
    "    activity_suggestion = \"\"\n",
    "\n",
    "    bad_weather = any(keyword in desc for keyword in ['rain', 'thunder', 'fog', 'mist', 'shower','snow', 'drizzle', 'downpour', \n",
    "                                                      'blizzard', 'sleet', 'ice', 'hail', 'flurry'])\n",
    "    if activity_type.lower() == \"outdoor\":\n",
    "        if bad_weather or avg_temp < 15:\n",
    "            activity_suggestion = (f\"The weather is bad or it's cold ({avg_temp}°C), so outdoor activities like {activity.capitalize()} \"\n",
    "                               \"are not recommended. It's better to stay indoors.\")\n",
    "        elif 15 <= avg_temp <= 30:\n",
    "            activity_suggestion = (f\"The weather and temperature ({avg_temp}°C) are comfortable, perfect for outdoor activities like \"\n",
    "                               f\"{activity.capitalize()}.\")\n",
    "        else:  # avg_temp > 30 and weather is good\n",
    "            activity_suggestion = (f\"It's very hot outside ({avg_temp}°C). Even though the weather is good, be careful doing outdoor activities \"\n",
    "                               f\"like {activity.capitalize()}. Indoor activities are recommended.\")\n",
    "    else:  # indoor activity\n",
    "        if bad_weather or avg_temp < 15:\n",
    "            activity_suggestion = (f\"The weather is bad or it's cold ({avg_temp}°C), so indoor activities like {activity.capitalize()} \"\n",
    "                               \"are the best choice.\")\n",
    "        else:  # good weather and comfortable/hot temperature\n",
    "            activity_suggestion = (f\"The weather is good and temperature is {avg_temp}°C. Indoor activities like {activity.capitalize()} are fine, \"\n",
    "                               \"but you can also try outdoor activities like Jogging or Basketball.\")\n",
    "        \n",
    "    output = (\n",
    "                \"\\n\" + \"-\" * 53\n",
    "                +\"\\n\" + \" \" * 20 + \"ACTIVITY SUGGESTION\"\n",
    "                +\"\\n\" + \"-\" * 53\n",
    "                +\"\\n\" + f\"📍 Location   : {location}\"\n",
    "                +\"\\n\" + f\"📅 Date       : ({time.capitalize()}) {date_str}\"\n",
    "                +\"\\n\" + f\"🏃 Activity   : ({activity_type.capitalize()})-{activity.capitalize()}\"\n",
    "                +\"\\n\" + f\"🌤️ Weather    : {weather_desc}\"\n",
    "                +\"\\n\" + f\"🌡️ Temperature: Min {min_temp}°C | Max {max_temp}°C | Avg {avg_temp}°C\"\n",
    "                +\"\\n\"\n",
    "                +\"\\n\" + \"✅ Suggestion:\"\n",
    "                +\"\\n\" + f\"{time.capitalize()}, \" +activity_suggestion\n",
    "                +\"\\n\" +\"-\" * 53 + \"\\n\"\n",
    "                )\n",
    "    \n",
    "    return output\n"
   ]
  },
  {
   "cell_type": "markdown",
   "id": "0d85225e",
   "metadata": {
    "id": "0d85225e"
   },
   "source": [
    "## 🧭 User Interface"
   ]
  },
  {
   "cell_type": "code",
   "execution_count": 11,
   "id": "fa6cb0f6",
   "metadata": {
    "id": "fa6cb0f6"
   },
   "outputs": [],
   "source": [
    "import ipywidgets as widgets\n",
    "from IPython.display import display, clear_output\n",
    "\n",
    "# Variabel global widget dan user info\n",
    "user_info = {'name': '', 'location': ''}\n",
    "name_input = widgets.Text(description='🤖',layout= widgets.Layout(width='300px'), placeholder='Hi! Please enter your name')\n",
    "location_input = widgets.Text(description='🤖',layout= widgets.Layout(width='300px'),placeholder='Which location would you check?')\n",
    "btn_start = widgets.Button(description='Start', layout=widgets.Layout(margin='10px 0 0 90px'))\n",
    "input_box = widgets.VBox()\n",
    "output = widgets.Output()\n",
    "\n",
    "def main():\n",
    "    def show_menu():\n",
    "        with output:\n",
    "            clear_output()\n",
    "            name = user_info['name']\n",
    "            location = user_info['location']\n",
    "\n",
    "            print(f'🤖 Hello! {name}, Welcome to Weather Wise. How can I help you at {location}?')\n",
    "            print(\"-\" * 53)\n",
    "            print('Please enter your choice (1 - 6):')\n",
    "            print(f'1. Check Current Weather & View Weather Forecast at {location}')\n",
    "            print(f'2. Check Current Weather Hourly at {location}')\n",
    "            print(f'3. Activities Suggestions at {location}')\n",
    "            print(f'4. Weather prediction assistant at {location}')\n",
    "            print('5. Check Other Location')\n",
    "            print('6. Exit Program')\n",
    "\n",
    "            input_choose = widgets.Text(description=\"🤖\", placeholder='Enter your choice (1-6)')\n",
    "            btn_choose = widgets.Button(description=\"Check\",layout=widgets.Layout(margin='10px 0 0 90px'))\n",
    "            \n",
    "\n",
    "            def on_menu_select(b):\n",
    "                with output:\n",
    "                    clear_output()\n",
    "                    pilihan = input_choose.value.strip()\n",
    "                    if pilihan == '1':\n",
    "                        get_weather_data(location)\n",
    "                    elif pilihan == '2':\n",
    "                        data_cuaca = get_weather_data(location, format_type=\"json\")\n",
    "                        if data_cuaca:\n",
    "                            create_precipitation_visualisation(data_cuaca,location)\n",
    "                        else:\n",
    "                            print(\"Failed to download..\")\n",
    "                    elif pilihan == '3':\n",
    "                        question_text = widgets.Text(description=\"Question:\", placeholder='ex: How abour running today?')\n",
    "                        submit_q = widgets.Button(description=\"Submit\", layout=widgets.Layout(margin='10px 0 0 90px'))\n",
    "\n",
    "                        def on_submit_q(btn):\n",
    "                            with output:\n",
    "                                clear_output()\n",
    "                                question = question_text.value\n",
    "                                parse_weather_question(question, location)\n",
    "                                show_back_button()\n",
    "\n",
    "                        submit_q.on_click(on_submit_q)\n",
    "                        display(widgets.Label(\"What Activities & When (Today, Tomorrow, Day After Tomorrow)?\"))\n",
    "                        display(question_text, submit_q)\n",
    "                        return\n",
    "                    elif pilihan == '4':\n",
    "                        print(\"🧠 Asisten prediksi cuaca... [placeholder]\")\n",
    "                    elif pilihan == '5':\n",
    "                        new_location = widgets.Text(description='🤖', placeholder='Enter New Location')\n",
    "                        update_btn = widgets.Button(description=\"Update Location\", layout=widgets.Layout(margin='10px 0 0 90px'))\n",
    "\n",
    "                        def on_update_location(btn):\n",
    "                            loc = new_location.value.strip()\n",
    "                            with output:\n",
    "                                clear_output()\n",
    "                                if not loc:\n",
    "                                    print(\"⚠️ Please enter a location before updating.\")\n",
    "                                else:\n",
    "                                    user_info['location'] = loc\n",
    "                                    print(f\"📍 Your New Location: {user_info['location']}\")\n",
    "                                show_menu()\n",
    "\n",
    "                        update_btn.on_click(on_update_location)\n",
    "                        display(new_location, update_btn)\n",
    "                        return\n",
    "                    elif pilihan == '6':\n",
    "                        # lalu reset\n",
    "                        user_info['name'] = ''\n",
    "                        user_info['location'] = ''\n",
    "                        name_input.value = ''\n",
    "                        location_input.value = ''\n",
    "                        input_box.children = []\n",
    "                        clear_output(wait=True)\n",
    "                        print(f\"Thank you! Have a nice day! {name}🌸\")\n",
    "                        return\n",
    "                    else:\n",
    "                        print(\"\\033[1;31mInvalid choice. Please type 1-6 as a number!\\033[0m\")\n",
    "\n",
    "                    show_back_button()\n",
    "\n",
    "            def show_back_button():\n",
    "                back_button = widgets.Button(description=\"Back to Main Menu\")\n",
    "\n",
    "                def on_back(b):\n",
    "                    with output:\n",
    "                        clear_output()\n",
    "                        show_menu()\n",
    "\n",
    "                back_button.on_click(on_back)\n",
    "                display(back_button)\n",
    "\n",
    "            display(input_choose, btn_choose)\n",
    "            btn_choose.on_click(on_menu_select)\n",
    "\n",
    "    def on_start(b):\n",
    "        user_info['name'] = name_input.value.strip()\n",
    "        user_info['location'] = location_input.value.strip() #strip is trim\n",
    "        input_box.children = []\n",
    "        with output:\n",
    "            clear_output()\n",
    "        show_menu()\n",
    "\n",
    "    btn_start.on_click(on_start)"
   ]
  },
  {
   "cell_type": "markdown",
   "id": "d643a53c",
   "metadata": {
    "id": "d643a53c"
   },
   "source": [
    "## 🧩 Main Application Logic"
   ]
  },
  {
   "cell_type": "code",
   "execution_count": 12,
   "id": "79e0162f-a966-4af1-b165-e67b08100597",
   "metadata": {},
   "outputs": [
    {
     "name": "stdout",
     "output_type": "stream",
     "text": [
      "=====================================================\n"
     ]
    },
    {
     "data": {
      "application/vnd.jupyter.widget-view+json": {
       "model_id": "f892011802fd47f082e33b2920edaa9d",
       "version_major": 2,
       "version_minor": 0
      },
      "text/plain": [
       "VBox(children=(HTML(value='<h2 style=\"color:blue; margin-left:80px;\">🌤️ Weather Wise</h2>'), Text(value='', de…"
      ]
     },
     "metadata": {},
     "output_type": "display_data"
    },
    {
     "data": {
      "application/vnd.jupyter.widget-view+json": {
       "model_id": "e3c2693ecdc147348e368e4ad734eabe",
       "version_major": 2,
       "version_minor": 0
      },
      "text/plain": [
       "Output()"
      ]
     },
     "metadata": {},
     "output_type": "display_data"
    },
    {
     "name": "stdout",
     "output_type": "stream",
     "text": [
      "=====================================================\n"
     ]
    }
   ],
   "source": [
    "# Tie everything together here\n",
    "\n",
    "if __name__ == \"__main__\":\n",
    "    print(\"=\" * 53)\n",
    "    input_box.children = [widgets.HTML('<h2 style=\"color:blue; margin-left:80px;\">🌤️ Weather Wise</h2>'), name_input, location_input, btn_start]\n",
    "    display(input_box, output)\n",
    "    print(\"=\" * 53)\n",
    "\n",
    "    main()\n"
   ]
  },
  {
   "cell_type": "markdown",
   "id": "fde44479",
   "metadata": {
    "id": "fde44479"
   },
   "source": [
    "## 🧪 Testing and Examples"
   ]
  },
  {
   "cell_type": "code",
   "execution_count": null,
   "id": "4e573901",
   "metadata": {
    "id": "4e573901"
   },
   "outputs": [],
   "source": [
    "# Include sample input/output for each function"
   ]
  },
  {
   "cell_type": "markdown",
   "id": "d2885880",
   "metadata": {
    "id": "d2885880"
   },
   "source": [
    "## 🗂️ AI Prompting Log (Optional)\n",
    "Add markdown cells here summarising prompts used or link to AI conversations in the `ai-conversations/` folder."
   ]
  }
 ],
 "metadata": {
  "colab": {
   "provenance": []
  },
  "kernelspec": {
   "display_name": "Python 3 (ipykernel)",
   "language": "python",
   "name": "python3"
  },
  "language_info": {
   "codemirror_mode": {
    "name": "ipython",
    "version": 3
   },
   "file_extension": ".py",
   "mimetype": "text/x-python",
   "name": "python",
   "nbconvert_exporter": "python",
   "pygments_lexer": "ipython3",
   "version": "3.13.2"
  }
 },
 "nbformat": 4,
 "nbformat_minor": 5
}
