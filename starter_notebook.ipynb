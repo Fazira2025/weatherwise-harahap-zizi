{
  "cells": [
    {
      "cell_type": "markdown",
      "metadata": {
        "id": "view-in-github",
        "colab_type": "text"
      },
      "source": [
        "<a href=\"https://colab.research.google.com/github/Fazira2025/weatherwise-harahap-zizi/blob/main/starter_notebook.ipynb\" target=\"_parent\"><img src=\"https://colab.research.google.com/assets/colab-badge.svg\" alt=\"Open In Colab\"/></a>"
      ]
    },
    {
      "cell_type": "markdown",
      "id": "72e78a05",
      "metadata": {
        "id": "72e78a05"
      },
      "source": [
        "# 🌦️ WeatherWise – Starter Notebook\n",
        "\n",
        "Welcome to your **WeatherWise** project notebook! This scaffold is designed to help you build your weather advisor app using Python, visualisations, and AI-enhanced development.\n",
        "\n",
        "---\n"
      ]
    },
    {
      "cell_type": "markdown",
      "id": "59ae7543",
      "metadata": {
        "id": "59ae7543"
      },
      "source": [
        "## 📦 Setup and Configuration\n",
        "Import required packages and setup environment."
      ]
    },
    {
      "cell_type": "code",
      "execution_count": 12,
      "id": "f1dd051e",
      "metadata": {
        "id": "f1dd051e"
      },
      "outputs": [],
      "source": [
        "# Add any other setup code here\n",
        "import requests\n",
        "import matplotlib.pyplot as plt"
      ]
    },
    {
      "cell_type": "markdown",
      "id": "f736ade3",
      "metadata": {
        "id": "f736ade3"
      },
      "source": [
        "## 🌤️ Weather Data Functions"
      ]
    },
    {
      "cell_type": "code",
      "execution_count": 13,
      "id": "7a2c7cd0",
      "metadata": {
        "id": "7a2c7cd0"
      },
      "outputs": [],
      "source": [
        "# Define get_weather_data() function here\n",
        "def get_weather_data(location, format_type='plaintext'):\n",
        "    \"\"\"\n",
        "    Get weather data from wttr.in API\n",
        "    Args:\n",
        "        location (str): City name or location\n",
        "    Returns:\n",
        "        str: Weather data in text format or None if an error occurs\n",
        "    Raises:\n",
        "        Various requests exceptions which are caught and printed\n",
        "    \"\"\"\n",
        "    try:\n",
        "        if format_type.lower() == \"json\":\n",
        "            url = f'https://wttr.in/{location}?format=j1'\n",
        "        else:\n",
        "            url = f'https://wttr.in/{location}'\n",
        "\n",
        "        response = requests.get(url, timeout=10)\n",
        "        response.raise_for_status()\n",
        "\n",
        "        if format_type.lower() == \"json\":\n",
        "            return response.json()\n",
        "        else:\n",
        "            print(response.text)\n",
        "            return None\n",
        "    except requests.exceptions.HTTPError as errh:\n",
        "        print(f\"HTTP Error: {errh}\")\n",
        "    except requests.exceptions.ConnectionError as errc:\n",
        "        print(f\"Connection Error: {errc}\")\n",
        "    except requests.exceptions.Timeout as errt:\n",
        "        print(f\"Timeout Error: {errt}\")\n",
        "    except requests.exceptions.TooManyRedirects as errr:\n",
        "        print(f\"Redirect Error: {errr}\")\n",
        "    except requests.exceptions.RequestException as err:\n",
        "        print(f\"Unknown Error: {err}\")\n",
        "\n",
        "    return None"
      ]
    },
    {
      "cell_type": "markdown",
      "id": "8a744fdc",
      "metadata": {
        "id": "8a744fdc"
      },
      "source": [
        "## 📊 Visualisation Functions"
      ]
    },
    {
      "cell_type": "code",
      "execution_count": null,
      "id": "9dc3bf85",
      "metadata": {
        "id": "9dc3bf85"
      },
      "outputs": [],
      "source": [
        "# Define create_temperature_visualisation() and create_precipitation_visualisation() here\n",
        "def create_temperature_visualisation(weather_data, output_type='display'):\n",
        "    \"\"\"\n",
        "    Create visualisation of temperature data.\n",
        "\n",
        "    Args:\n",
        "        weather_data (dict): The processed weather data\n",
        "        output_type (str): Either 'display' to show in notebook or 'figure' to return the figure\n",
        "\n",
        "    Returns:\n",
        "        If output_type is 'figure', returns the matplotlib figure object\n",
        "        Otherwise, displays the visualisation in the notebook\n",
        "    \"\"\"\n",
        "    pass\n"
      ]
    },
    {
      "cell_type": "code",
      "source": [
        "\n",
        "def create_precipitation_visualisation(location, day_index=0):\n",
        "    data = get_weather_data(location, 'json')\n",
        "    if not data:\n",
        "        print(\"Failed to get data.\")\n",
        "        return\n",
        "\n",
        "    hourly = data['weather'][day_index]['hourly']\n",
        "    times = [f\"{int(h['time'])//100:02d}:00\" for h in hourly]\n",
        "    precip = [float(h['precipMM']) for h in hourly]\n",
        "    rain_chance = [int(h['chanceofrain']) for h in hourly]\n",
        "\n",
        "    fig, ax1 = plt.subplots()\n",
        "\n",
        "    ax1.plot(times, precip, 'b-o', label='Precipitation (mm)')\n",
        "    ax1.set_xlabel('Time')\n",
        "    ax1.set_ylabel('Precipitation (mm)', color='b')\n",
        "    ax1.tick_params(axis='y', labelcolor='b')\n",
        "\n",
        "    ax2 = ax1.twinx()\n",
        "    ax2.plot(times, rain_chance, 'g--x', label='Chance of Rain (%)')\n",
        "    ax2.set_ylabel('Chance of Rain (%)', color='g')\n",
        "    ax2.tick_params(axis='y', labelcolor='g')\n",
        "\n",
        "    if day_index == 0:\n",
        "        days = 'Today'\n",
        "    elif day_index == 1:\n",
        "        days = 'Tomorrow'\n",
        "    else:\n",
        "        days = 'After-Tomorrow'\n",
        "\n",
        "    plt.title(f'{days} Graphical Representation of Precipitation and Rainfall Probability at {location.capitalize()}')\n",
        "    plt.grid(True)\n",
        "    plt.show()"
      ],
      "metadata": {
        "id": "HpOlQylYG5Ho"
      },
      "id": "HpOlQylYG5Ho",
      "execution_count": 14,
      "outputs": []
    },
    {
      "cell_type": "markdown",
      "id": "9f95d160",
      "metadata": {
        "id": "9f95d160"
      },
      "source": [
        "## 🤖 Natural Language Processing"
      ]
    },
    {
      "cell_type": "code",
      "execution_count": null,
      "id": "bcc5833e",
      "metadata": {
        "id": "bcc5833e"
      },
      "outputs": [],
      "source": [
        "# Define parse_weather_question() and generate_weather_response() here\n",
        "def parse_weather_question(question):\n",
        "    \"\"\"\n",
        "    Parse a natural language weather question.\n",
        "\n",
        "    Args:\n",
        "        question (str): User's weather-related question\n",
        "\n",
        "    Returns:\n",
        "        dict: Extracted information including location, time period, and weather attribute\n",
        "    \"\"\"\n",
        "    pass"
      ]
    },
    {
      "cell_type": "markdown",
      "id": "0d85225e",
      "metadata": {
        "id": "0d85225e"
      },
      "source": [
        "## 🧭 User Interface"
      ]
    },
    {
      "cell_type": "code",
      "execution_count": 15,
      "id": "fa6cb0f6",
      "metadata": {
        "id": "fa6cb0f6"
      },
      "outputs": [],
      "source": [
        "def main():\n",
        "  name = input('🤖: Hi! Please enter your name: ')\n",
        "  location = input(f'🤖: Which location would you like to check, {name}? ')\n",
        "  while True:\n",
        "        print(f'🤖 Hello! {name}, Welcome to Weather Wise. How can I help you at {location}?')\n",
        "        print(\"-\" * 53)\n",
        "        print('Please enter your choice (1 - 5):')\n",
        "        print(f'1. Check Current Weather & View Weather Forecast at {location}')\n",
        "        print(f'2. Check Current Weather Hourly at {location}')\n",
        "        print(f'3. Activities Suggestions & Weather Prediction assistant at {location}')\n",
        "        print('4. Check Other Location')\n",
        "        print('5. Exit Program')\n",
        "\n",
        "        choice = input('Enter your choice (1-5): ')\n",
        "\n",
        "        if choice == \"1\":\n",
        "           get_weather_data(location)\n",
        "        elif choice == \"2\":\n",
        "            print(\"Select day for weather visualization:\")\n",
        "            print(\"1. Today\")\n",
        "            print(\"2. Tomorrow\")\n",
        "            print(\"3. Day after tomorrow\")\n",
        "            day_choice = input(\"Enter choice (1-3): \").strip()\n",
        "            if day_choice in ['1', '2', '3']:\n",
        "                day_index = int(day_choice) - 1  # Convert to 0-based index\n",
        "            else:\n",
        "                print(\"Invalid choice, defaulting to Today.\")\n",
        "                day_index = 0\n",
        "            create_precipitation_visualisation(location, day_index=day_index)\n",
        "        elif choice == \"3\":\n",
        "            print('')\n",
        "            location = input(f'{name}, Please enter your new location: ')\n",
        "            print(f'🤖: Your new location is {location}')\n",
        "            print('You chose Choice 3')\n",
        "        elif choice == \"4\":\n",
        "            location = input(\"Enter new location: \")\n",
        "            print(f\"Location updated to {location}\")\n",
        "        elif choice == \"5\":\n",
        "            print(f'Thankyou! Have a nice day {name} 🌸')\n",
        "            break\n",
        "        else:\n",
        "            print(\"\\033[1;31mInvalid choice. Please type 1-5 as a number!\\033[0m\") #error_handling\n"
      ]
    },
    {
      "cell_type": "markdown",
      "id": "d643a53c",
      "metadata": {
        "id": "d643a53c"
      },
      "source": [
        "## 🧩 Main Application Logic"
      ]
    },
    {
      "cell_type": "code",
      "execution_count": 16,
      "id": "a9e2e805",
      "metadata": {
        "id": "a9e2e805",
        "outputId": "fc501405-4039-468a-d582-5161860b3564",
        "colab": {
          "base_uri": "https://localhost:8080/",
          "height": 1000
        }
      },
      "outputs": [
        {
          "name": "stdout",
          "output_type": "stream",
          "text": [
            "=====================================================\n",
            "\u001b[1;94m                    Weather Wise                   \u001b[0m\n",
            "=====================================================\n",
            "🤖: Hi! Please enter your name: Zizi\n",
            "🤖: Which location would you like to check, Zizi? Perth\n",
            "🤖 Hello! Zizi, Welcome to Weather Wise. How can I help you at Perth?\n",
            "-----------------------------------------------------\n",
            "Please enter your choice (1 - 5):\n",
            "1. Check Current Weather & View Weather Forecast at Perth\n",
            "2. Check Current Weather Hourly at Perth\n",
            "3. Activities Suggestions & Weather Prediction assistant at Perth\n",
            "4. Check Other Location\n",
            "5. Exit Program\n",
            "Enter your choice (1-5): 1\n",
            "Weather report: Perth\n",
            "\n",
            "                Shower in vicinity\n",
            "  \u001b[38;5;240;1m     .--.    \u001b[0m \u001b[38;5;154m62\u001b[0m °F\u001b[0m          \n",
            "  \u001b[38;5;240;1m  .-(    ).  \u001b[0m \u001b[1m↗\u001b[0m \u001b[38;5;214m13\u001b[0m mph\u001b[0m       \n",
            "  \u001b[38;5;240;1m (___.__)__) \u001b[0m 6 mi\u001b[0m           \n",
            "                0.0 in\u001b[0m         \n",
            "                                                       ┌─────────────┐                                                       \n",
            "┌──────────────────────────────┬───────────────────────┤  Thu 22 May ├───────────────────────┬──────────────────────────────┐\n",
            "│            Morning           │             Noon      └──────┬──────┘     Evening           │             Night            │\n",
            "├──────────────────────────────┼──────────────────────────────┼──────────────────────────────┼──────────────────────────────┤\n",
            "│ \u001b[38;5;226m    \\   /    \u001b[0m Sunny          │ \u001b[38;5;226m _`/\"\"\u001b[38;5;250m.-.    \u001b[0m Patchy rain ne…│ \u001b[38;5;226m _`/\"\"\u001b[38;5;250m.-.    \u001b[0m Patchy rain ne…│ \u001b[38;5;226m _`/\"\"\u001b[38;5;250m.-.    \u001b[0m Patchy rain ne…│\n",
            "│ \u001b[38;5;226m     .-.     \u001b[0m \u001b[38;5;154m62\u001b[0m °F\u001b[0m          │ \u001b[38;5;226m  ,\\_\u001b[38;5;250m(   ).  \u001b[0m \u001b[38;5;226m71\u001b[0m °F\u001b[0m          │ \u001b[38;5;226m  ,\\_\u001b[38;5;250m(   ).  \u001b[0m \u001b[38;5;190m66\u001b[0m °F\u001b[0m          │ \u001b[38;5;226m  ,\\_\u001b[38;5;250m(   ).  \u001b[0m \u001b[38;5;190m66\u001b[0m °F\u001b[0m          │\n",
            "│ \u001b[38;5;226m  ― (   ) ―  \u001b[0m \u001b[1m↓\u001b[0m \u001b[38;5;226m9\u001b[0m-\u001b[38;5;214m12\u001b[0m mph\u001b[0m     │ \u001b[38;5;226m   /\u001b[38;5;250m(___(__) \u001b[0m \u001b[1m→\u001b[0m \u001b[38;5;214m13\u001b[0m-\u001b[38;5;208m14\u001b[0m mph\u001b[0m    │ \u001b[38;5;226m   /\u001b[38;5;250m(___(__) \u001b[0m \u001b[1m→\u001b[0m \u001b[38;5;214m13\u001b[0m-\u001b[38;5;202m19\u001b[0m mph\u001b[0m    │ \u001b[38;5;226m   /\u001b[38;5;250m(___(__) \u001b[0m \u001b[1m→\u001b[0m \u001b[38;5;214m13\u001b[0m-\u001b[38;5;202m18\u001b[0m mph\u001b[0m    │\n",
            "│ \u001b[38;5;226m     `-’     \u001b[0m 6 mi\u001b[0m           │ \u001b[38;5;111m     ‘ ‘ ‘ ‘ \u001b[0m 6 mi\u001b[0m           │ \u001b[38;5;111m     ‘ ‘ ‘ ‘ \u001b[0m 6 mi\u001b[0m           │ \u001b[38;5;111m     ‘ ‘ ‘ ‘ \u001b[0m 6 mi\u001b[0m           │\n",
            "│ \u001b[38;5;226m    /   \\    \u001b[0m 0.0 in | 0%\u001b[0m    │ \u001b[38;5;111m    ‘ ‘ ‘ ‘  \u001b[0m 0.0 in | 66%\u001b[0m   │ \u001b[38;5;111m    ‘ ‘ ‘ ‘  \u001b[0m 0.0 in | 61%\u001b[0m   │ \u001b[38;5;111m    ‘ ‘ ‘ ‘  \u001b[0m 0.0 in | 100%\u001b[0m  │\n",
            "└──────────────────────────────┴──────────────────────────────┴──────────────────────────────┴──────────────────────────────┘\n",
            "                                                       ┌─────────────┐                                                       \n",
            "┌──────────────────────────────┬───────────────────────┤  Fri 23 May ├───────────────────────┬──────────────────────────────┐\n",
            "│            Morning           │             Noon      └──────┬──────┘     Evening           │             Night            │\n",
            "├──────────────────────────────┼──────────────────────────────┼──────────────────────────────┼──────────────────────────────┤\n",
            "│ \u001b[38;5;226m _`/\"\"\u001b[38;5;250m.-.    \u001b[0m Patchy rain ne…│ \u001b[38;5;226m _`/\"\"\u001b[38;5;250m.-.    \u001b[0m Patchy rain ne…│ \u001b[38;5;226m _`/\"\"\u001b[38;5;250m.-.    \u001b[0m Patchy rain ne…│ \u001b[38;5;226m _`/\"\"\u001b[38;5;250m.-.    \u001b[0m Patchy rain ne…│\n",
            "│ \u001b[38;5;226m  ,\\_\u001b[38;5;250m(   ).  \u001b[0m \u001b[38;5;118m+57\u001b[0m(\u001b[38;5;118m55\u001b[0m) °F\u001b[0m     │ \u001b[38;5;226m  ,\\_\u001b[38;5;250m(   ).  \u001b[0m \u001b[38;5;154m60\u001b[0m °F\u001b[0m          │ \u001b[38;5;226m  ,\\_\u001b[38;5;250m(   ).  \u001b[0m \u001b[38;5;118m+59\u001b[0m(\u001b[38;5;118m57\u001b[0m) °F\u001b[0m     │ \u001b[38;5;226m  ,\\_\u001b[38;5;250m(   ).  \u001b[0m \u001b[38;5;118m+57\u001b[0m(\u001b[38;5;118m55\u001b[0m) °F\u001b[0m     │\n",
            "│ \u001b[38;5;226m   /\u001b[38;5;250m(___(__) \u001b[0m \u001b[1m↑\u001b[0m \u001b[38;5;214m12\u001b[0m-\u001b[38;5;208m16\u001b[0m mph\u001b[0m    │ \u001b[38;5;226m   /\u001b[38;5;250m(___(__) \u001b[0m \u001b[1m↑\u001b[0m \u001b[38;5;214m13\u001b[0m-\u001b[38;5;208m16\u001b[0m mph\u001b[0m    │ \u001b[38;5;226m   /\u001b[38;5;250m(___(__) \u001b[0m \u001b[1m↑\u001b[0m \u001b[38;5;226m9\u001b[0m-\u001b[38;5;214m13\u001b[0m mph\u001b[0m     │ \u001b[38;5;226m   /\u001b[38;5;250m(___(__) \u001b[0m \u001b[1m↖\u001b[0m \u001b[38;5;220m9\u001b[0m-\u001b[38;5;214m13\u001b[0m mph\u001b[0m     │\n",
            "│ \u001b[38;5;111m     ‘ ‘ ‘ ‘ \u001b[0m 6 mi\u001b[0m           │ \u001b[38;5;111m     ‘ ‘ ‘ ‘ \u001b[0m 6 mi\u001b[0m           │ \u001b[38;5;111m     ‘ ‘ ‘ ‘ \u001b[0m 6 mi\u001b[0m           │ \u001b[38;5;111m     ‘ ‘ ‘ ‘ \u001b[0m 6 mi\u001b[0m           │\n",
            "│ \u001b[38;5;111m    ‘ ‘ ‘ ‘  \u001b[0m 0.0 in | 100%\u001b[0m  │ \u001b[38;5;111m    ‘ ‘ ‘ ‘  \u001b[0m 0.0 in | 100%\u001b[0m  │ \u001b[38;5;111m    ‘ ‘ ‘ ‘  \u001b[0m 0.0 in | 76%\u001b[0m   │ \u001b[38;5;111m    ‘ ‘ ‘ ‘  \u001b[0m 0.0 in | 67%\u001b[0m   │\n",
            "└──────────────────────────────┴──────────────────────────────┴──────────────────────────────┴──────────────────────────────┘\n",
            "                                                       ┌─────────────┐                                                       \n",
            "┌──────────────────────────────┬───────────────────────┤  Sat 24 May ├───────────────────────┬──────────────────────────────┐\n",
            "│            Morning           │             Noon      └──────┬──────┘     Evening           │             Night            │\n",
            "├──────────────────────────────┼──────────────────────────────┼──────────────────────────────┼──────────────────────────────┤\n",
            "│ \u001b[38;5;226m   \\  /\u001b[0m       Partly Cloudy  │ \u001b[38;5;226m   \\  /\u001b[0m       Partly Cloudy  │               Cloudy         │ \u001b[38;5;226m _`/\"\"\u001b[38;5;250m.-.    \u001b[0m Patchy rain ne…│\n",
            "│ \u001b[38;5;226m _ /\"\"\u001b[38;5;250m.-.    \u001b[0m \u001b[38;5;082m+53\u001b[0m(\u001b[38;5;082m51\u001b[0m) °F\u001b[0m     │ \u001b[38;5;226m _ /\"\"\u001b[38;5;250m.-.    \u001b[0m \u001b[38;5;118m59\u001b[0m °F\u001b[0m          │ \u001b[38;5;250m     .--.    \u001b[0m \u001b[38;5;118m57\u001b[0m °F\u001b[0m          │ \u001b[38;5;226m  ,\\_\u001b[38;5;250m(   ).  \u001b[0m \u001b[38;5;118m59\u001b[0m °F\u001b[0m          │\n",
            "│ \u001b[38;5;226m   \\_\u001b[38;5;250m(   ).  \u001b[0m \u001b[1m↙\u001b[0m \u001b[38;5;154m5\u001b[0m-\u001b[38;5;190m7\u001b[0m mph\u001b[0m      │ \u001b[38;5;226m   \\_\u001b[38;5;250m(   ).  \u001b[0m \u001b[1m↙\u001b[0m \u001b[38;5;118m2\u001b[0m mph\u001b[0m        │ \u001b[38;5;250m  .-(    ).  \u001b[0m \u001b[1m↗\u001b[0m \u001b[38;5;154m4\u001b[0m-\u001b[38;5;190m7\u001b[0m mph\u001b[0m      │ \u001b[38;5;226m   /\u001b[38;5;250m(___(__) \u001b[0m \u001b[1m↗\u001b[0m \u001b[38;5;118m3\u001b[0m-\u001b[38;5;154m4\u001b[0m mph\u001b[0m      │\n",
            "│ \u001b[38;5;226m   /\u001b[38;5;250m(___(__) \u001b[0m 6 mi\u001b[0m           │ \u001b[38;5;226m   /\u001b[38;5;250m(___(__) \u001b[0m 6 mi\u001b[0m           │ \u001b[38;5;250m (___.__)__) \u001b[0m 6 mi\u001b[0m           │ \u001b[38;5;111m     ‘ ‘ ‘ ‘ \u001b[0m 6 mi\u001b[0m           │\n",
            "│               0.0 in | 0%\u001b[0m    │               0.0 in | 0%\u001b[0m    │               0.0 in | 0%\u001b[0m    │ \u001b[38;5;111m    ‘ ‘ ‘ ‘  \u001b[0m 0.0 in | 69%\u001b[0m   │\n",
            "└──────────────────────────────┴──────────────────────────────┴──────────────────────────────┴──────────────────────────────┘\n",
            "Location: Perth, Western Australia, Australia [-31.952712,115.8604796]\n",
            "\n",
            "Follow \u001b[46m\u001b[30m@igor_chubin\u001b[0m for wttr.in updates\n",
            "\n",
            "🤖 Hello! Zizi, Welcome to Weather Wise. How can I help you at Perth?\n",
            "-----------------------------------------------------\n",
            "Please enter your choice (1 - 5):\n",
            "1. Check Current Weather & View Weather Forecast at Perth\n",
            "2. Check Current Weather Hourly at Perth\n",
            "3. Activities Suggestions & Weather Prediction assistant at Perth\n",
            "4. Check Other Location\n",
            "5. Exit Program\n",
            "Enter your choice (1-5): 2\n",
            "Select day for weather visualization:\n",
            "1. Today\n",
            "2. Tomorrow\n",
            "3. Day after tomorrow\n",
            "Enter choice (1-3): 1\n"
          ]
        },
        {
          "output_type": "display_data",
          "data": {
            "text/plain": [
              "<Figure size 640x480 with 2 Axes>"
            ],
            "image/png": "[encoded data removed]"
          },
          "metadata": {}
        },
        {
          "output_type": "stream",
          "name": "stdout",
          "text": [
            "🤖 Hello! Zizi, Welcome to Weather Wise. How can I help you at Perth?\n",
            "-----------------------------------------------------\n",
            "Please enter your choice (1 - 5):\n",
            "1. Check Current Weather & View Weather Forecast at Perth\n",
            "2. Check Current Weather Hourly at Perth\n",
            "3. Activities Suggestions & Weather Prediction assistant at Perth\n",
            "4. Check Other Location\n",
            "5. Exit Program\n",
            "Enter your choice (1-5): 5\n",
            "Thankyou! Have a nice day Zizi 🌸\n"
          ]
        }
      ],
      "source": [
        "# Tie everything together here\n",
        "if __name__ == \"__main__\":\n",
        "    title = \"Weather Wise\"\n",
        "    blue_bold = \"\\033[1;94m\"  # 1 for bold, 94 for light blue\n",
        "    color = \"\\033[0m\"\n",
        "\n",
        "    print(\"=\" * 53)\n",
        "    print(\"\" + blue_bold + title.center(51) + color + \"\")\n",
        "    print(\"=\" * 53)\n",
        "\n",
        "    main()"
      ]
    },
    {
      "cell_type": "markdown",
      "id": "fde44479",
      "metadata": {
        "id": "fde44479"
      },
      "source": [
        "## 🧪 Testing and Examples"
      ]
    },
    {
      "cell_type": "code",
      "execution_count": null,
      "id": "4e573901",
      "metadata": {
        "id": "4e573901"
      },
      "outputs": [],
      "source": [
        "# Include sample input/output for each function"
      ]
    },
    {
      "cell_type": "markdown",
      "id": "d2885880",
      "metadata": {
        "id": "d2885880"
      },
      "source": [
        "## 🗂️ AI Prompting Log (Optional)\n",
        "Add markdown cells here summarising prompts used or link to AI conversations in the `ai-conversations/` folder."
      ]
    }
  ],
  "metadata": {
    "language_info": {
      "name": "python"
    },
    "colab": {
      "provenance": [],
      "include_colab_link": true
    },
    "kernelspec": {
      "name": "python3",
      "display_name": "Python 3"
    }
  },
  "nbformat": 4,
  "nbformat_minor": 5
}