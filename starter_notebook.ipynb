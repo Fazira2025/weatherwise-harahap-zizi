{
  "cells": [
    {
      "cell_type": "markdown",
      "metadata": {
        "id": "view-in-github",
        "colab_type": "text"
      },
      "source": [
        "<a href=\"https://colab.research.google.com/github/Fazira2025/weatherwise-harahap-zizi/blob/main/starter_notebook.ipynb\" target=\"_parent\"><img src=\"https://colab.research.google.com/assets/colab-badge.svg\" alt=\"Open In Colab\"/></a>"
      ]
    },
    {
      "cell_type": "markdown",
      "id": "72e78a05",
      "metadata": {
        "id": "72e78a05"
      },
      "source": [
        "# \ud83c\udf26\ufe0f WeatherWise \u2013 Starter Notebook\n",
        "\n",
        "Welcome to your **WeatherWise** project notebook! This scaffold is designed to help you build your weather advisor app using Python, visualisations, and AI-enhanced development.\n",
        "\n",
        "---"
      ]
    },
    {
      "cell_type": "code",
      "execution_count": null,
      "id": "70c3f3f1",
      "metadata": {
        "id": "70c3f3f1"
      },
      "outputs": [],
      "source": [
        "# \ud83e\uddea Optional packages \u2014 uncomment if needed in Colab or JupyterHub\n",
        "\n"
      ]
    },
    {
      "cell_type": "markdown",
      "id": "59ae7543",
      "metadata": {
        "id": "59ae7543"
      },
      "source": [
        "## \ud83d\udce6 Setup and Configuration\n",
        "Import required packages and setup environment."
      ]
    },
    {
      "cell_type": "code",
      "execution_count": 5,
      "id": "f1dd051e",
      "metadata": {
        "id": "f1dd051e"
      },
      "outputs": [],
      "source": [
        "# Add any other setup code here\n",
        "import ipywidgets as widgets\n",
        "from IPython.display import display, clear_output\n",
        "\n"
      ]
    },
    {
      "cell_type": "markdown",
      "id": "f736ade3",
      "metadata": {
        "id": "f736ade3"
      },
      "source": [
        "## \ud83c\udf24\ufe0f Weather Data Functions"
      ]
    },
    {
      "cell_type": "code",
      "execution_count": null,
      "id": "7a2c7cd0",
      "metadata": {
        "id": "7a2c7cd0"
      },
      "outputs": [],
      "source": [
        "# Define get_weather_data() function here\n",
        "def get_weather_data(location, forecast_days=5):\n",
        "    \"\"\"\n",
        "    Retrieve weather data for a specified location.\n",
        "\n",
        "    Args:\n",
        "        location (str): City or location name\n",
        "        forecast_days (int): Number of days to forecast (1-5)\n",
        "\n",
        "    Returns:\n",
        "        dict: Weather data including current conditions and forecast\n",
        "    \"\"\"\n",
        "    pass"
      ]
    },
    {
      "cell_type": "markdown",
      "id": "8a744fdc",
      "metadata": {
        "id": "8a744fdc"
      },
      "source": [
        "## \ud83d\udcca Visualisation Functions"
      ]
    },
    {
      "cell_type": "code",
      "execution_count": null,
      "id": "9dc3bf85",
      "metadata": {
        "id": "9dc3bf85"
      },
      "outputs": [],
      "source": [
        "# Define create_temperature_visualisation() and create_precipitation_visualisation() here\n",
        "def create_temperature_visualisation(weather_data, output_type='display'):\n",
        "    \"\"\"\n",
        "    Create visualisation of temperature data.\n",
        "\n",
        "    Args:\n",
        "        weather_data (dict): The processed weather data\n",
        "        output_type (str): Either 'display' to show in notebook or 'figure' to return the figure\n",
        "\n",
        "    Returns:\n",
        "        If output_type is 'figure', returns the matplotlib figure object\n",
        "        Otherwise, displays the visualisation in the notebook\n",
        "    \"\"\"\n",
        "    pass\n"
      ]
    },
    {
      "cell_type": "code",
      "source": [
        "\n",
        "def create_precipitation_visualisation(weather_data, output_type='display'):\n",
        "    \"\"\"\n",
        "    Create visualisation of precipitation data.\n",
        "\n",
        "    Args:\n",
        "        weather_data (dict): The processed weather data\n",
        "        output_type (str): Either 'display' to show in notebook or 'figure' to return the figure\n",
        "\n",
        "    Returns:\n",
        "        If output_type is 'figure', returns the matplotlib figure object\n",
        "        Otherwise, displays the visualisation in the notebook\n",
        "    \"\"\"\n",
        "    pass"
      ],
      "metadata": {
        "id": "HpOlQylYG5Ho"
      },
      "id": "HpOlQylYG5Ho",
      "execution_count": null,
      "outputs": []
    },
    {
      "cell_type": "markdown",
      "id": "9f95d160",
      "metadata": {
        "id": "9f95d160"
      },
      "source": [
        "## \ud83e\udd16 Natural Language Processing"
      ]
    },
    {
      "cell_type": "code",
      "execution_count": null,
      "id": "bcc5833e",
      "metadata": {
        "id": "bcc5833e"
      },
      "outputs": [],
      "source": [
        "# Define parse_weather_question() and generate_weather_response() here\n",
        "def parse_weather_question(question):\n",
        "    \"\"\"\n",
        "    Parse a natural language weather question.\n",
        "\n",
        "    Args:\n",
        "        question (str): User's weather-related question\n",
        "\n",
        "    Returns:\n",
        "        dict: Extracted information including location, time period, and weather attribute\n",
        "    \"\"\"\n",
        "    pass"
      ]
    },
    {
      "cell_type": "markdown",
      "id": "0d85225e",
      "metadata": {
        "id": "0d85225e"
      },
      "source": [
        "## \ud83e\udded User Interface"
      ]
    },
    {
      "cell_type": "code",
      "source": [
        "import ipywidgets as widgets\n",
        "from IPython.display import display, clear_output\n",
        "\n",
        "# Header display (blue color using HTML)\n",
        "header_html = widgets.HTML(\n",
        "    value=\"<pre style='color:blue; font-weight:bold;'>\"\n",
        "          \"============================================\\n\"\n",
        "          \"               Weather Wise                 \\n\"\n",
        "          \"============================================\"\n",
        "          \"</pre>\"\n",
        ")\n",
        "\n",
        "# Inputs for user info\n",
        "name_input = widgets.Text(description='Name:', placeholder='Enter your name')\n",
        "location_input = widgets.Text(description='Location:', placeholder='Enter your location')\n",
        "check_button = widgets.Button(description='Check')\n",
        "\n",
        "output = widgets.Output()\n",
        "\n",
        "# Container for name/location inputs and check button\n",
        "input_box = widgets.VBox([name_input, location_input, check_button])\n",
        "\n",
        "# Container for main menu input and button (starts hidden)\n",
        "menu_choice_input = widgets.Text(description='Choice:', placeholder='Enter 1-5')\n",
        "menu_submit_button = widgets.Button(description='Submit')\n",
        "menu_input_box = widgets.HBox([menu_choice_input, menu_submit_button])\n",
        "menu_input_box.layout.display = 'none'  # hide initially\n",
        "\n",
        "# Back button for submenus (hidden initially)\n",
        "back_button = widgets.Button(description='Back to Main Menu')\n",
        "back_button.layout.display = 'none'\n",
        "\n",
        "def show_menu(name, location):\n",
        "    with output:\n",
        "        clear_output()\n",
        "        print(f\"Welcome, {name} what will you check about {location}!\\n\")\n",
        "        print(\"Main Menu:\")\n",
        "        print(\"1. Check Current Weather & View Weather Forecast\")\n",
        "        print(\"2. Check Current Weather Hourly\")\n",
        "        print(\"3. Activities Suggestions & Weather Prediction assistant\")\n",
        "        print(\"4. Check Other Location\")\n",
        "        print(\"5. Exit Program\")\n",
        "    menu_input_box.layout.display = ''  # show menu input box\n",
        "    back_button.layout.display = 'none'  # hide back button in main menu\n",
        "\n",
        "def show_option_1(name, location):\n",
        "    with output:\n",
        "        clear_output()\n",
        "        print(f\"Option 1 Selected: Current Weather & Forecast for {location}\")\n",
        "        print(\"Here you would show the weather forecast details...\\n\")\n",
        "    menu_input_box.layout.display = 'none'  # hide menu choice input\n",
        "    back_button.layout.display = ''  # show back button\n",
        "\n",
        "def on_check_clicked(b):\n",
        "    name = name_input.value.strip()\n",
        "    location = location_input.value.strip()\n",
        "    if not name or not location:\n",
        "        with output:\n",
        "            clear_output()\n",
        "            print(\"Please enter both your name and location.\")\n",
        "        return\n",
        "\n",
        "    # Hide user info inputs and button\n",
        "    input_box.layout.display = 'none'\n",
        "    show_menu(name, location)\n",
        "\n",
        "def on_menu_submit_clicked(b):\n",
        "    choice = menu_choice_input.value.strip()\n",
        "    name = name_input.value.strip()\n",
        "    location = location_input.value.strip()\n",
        "    if choice not in ['1','2','3','4','5']:\n",
        "        with output:\n",
        "            clear_output()\n",
        "            print(\"Invalid choice. Please enter a number between 1 and 5.\\n\")\n",
        "            show_menu(name, location)\n",
        "        return\n",
        "    if choice == '5':\n",
        "        with output:\n",
        "            clear_output()\n",
        "            print(f\"Thank you for using Weather Wise. Goodbye! {name}\")\n",
        "        menu_input_box.layout.display = 'none'\n",
        "        back_button.layout.display = 'none'\n",
        "        return\n",
        "    if choice == '1':\n",
        "        show_option_1(name, location)\n",
        "    else:\n",
        "        with output:\n",
        "            clear_output()\n",
        "            print(f\"You selected option {choice}. (Functionality not implemented yet)\")\n",
        "            print(\"\\n(Main menu will be shown again)\")\n",
        "        show_menu(name, location)\n",
        "        menu_choice_input.value = ''\n",
        "\n",
        "def on_back_clicked(b):\n",
        "    name = name_input.value.strip()\n",
        "    location = location_input.value.strip()\n",
        "    show_menu(name, location)\n",
        "\n",
        "check_button.on_click(on_check_clicked)\n",
        "menu_submit_button.on_click(on_menu_submit_clicked)\n",
        "back_button.on_click(on_back_clicked)\n",
        "\n",
        "# Display all widgets\n",
        "display(header_html, input_box, output, menu_input_box, back_button)"
      ],
      "metadata": {
        "id": "VRN4NKKepFng",
        "outputId": "ffb01861-2a1b-4d26-d6f6-2def9e56528e",
        "colab": {
          "base_uri": "https://localhost:8080/",
          "height": 17,
          "referenced_widgets": [
            "3856bd4ba5c1477aa92a1021e8e0f3d2",
            "e38e14d7b85a43d6aa917c8c261ad0db",
            "9ba0d2dd9b5c4e7e880083de60d0cb46",
            "30b6a3f655b0406f8a68678aa491134f",
            "ab4148a9ec484bffb66cd8d1021d5fb2",
            "42bc660a49ff4222860035d696507ba6",
            "8af286b8855341d988fcc7f9fbc6b523",
            "14b08186667a40bc811ef8ffad50d79a",
            "eb8bc4ca9e894dbca07eb07c4519547e",
            "7cd11f4770664c1b83aa517917d61cf8",
            "8d1fe6b122e344a982b9b86d0c7471a6",
            "5908bfce44a04d90896b6c606f702f62",
            "986c4266fec44d918a89bba8fc86066d",
            "140d0e984922446fb09e3b9ae70dbc7c",
            "e34564041e3c4da9b9c89d3f3642a2c0",
            "5cd9ec68c2444087b2b50ca860367c56",
            "af506ac1156a475e83baa4aa952a31a5",
            "3c33768822744ce899e1e78dd3fa38e9",
            "15a4a122115141639f78168c30502d68",
            "3e6a7537d9d04245a9b6e0a236305e9d",
            "535268b23ef34a2994505542a4444755",
            "ba3746e469a8400b87f32db5a449a3d3",
            "ac8a98a802c74b63bddcff8c1d511073",
            "61a42f939a3c41f3b0518f65e374b011",
            "1894a9ba4f8442a1b1bd376070ae79f3",
            "f607604e834f4f3995aa091cad4691a1",
            "e025c31773cb4119ba31104ed7cf365e"
          ]
        }
      },
      "id": "VRN4NKKepFng",
      "execution_count": 8,
      "outputs": [
        {
          "output_type": "display_data",
          "data": {
            "text/plain": [
              "HTML(value=\"<pre style='color:blue; font-weight:bold;'>============================================\\n         \u2026"
            ],
            "application/vnd.jupyter.widget-view+json": {
              "version_major": 2,
              "version_minor": 0,
              "model_id": "3856bd4ba5c1477aa92a1021e8e0f3d2"
            }
          },
          "metadata": {
            "application/vnd.jupyter.widget-view+json": {
              "colab": {
                "custom_widget_manager": {
                  "url": "https://ssl.gstatic.com/colaboratory-static/widgets/colab-cdn-widget-manager/2b70e893a8ba7c0f/manager.min.js"
                }
              }
            }
          }
        },
        {
          "output_type": "display_data",
          "data": {
            "text/plain": [
              "VBox(children=(Text(value='', description='Name:', placeholder='Enter your name'), Text(value='', description=\u2026"
            ],
            "application/vnd.jupyter.widget-view+json": {
              "version_major": 2,
              "version_minor": 0,
              "model_id": "30b6a3f655b0406f8a68678aa491134f"
            }
          },
          "metadata": {
            "application/vnd.jupyter.widget-view+json": {
              "colab": {
                "custom_widget_manager": {
                  "url": "https://ssl.gstatic.com/colaboratory-static/widgets/colab-cdn-widget-manager/2b70e893a8ba7c0f/manager.min.js"
                }
              }
            }
          }
        },
        {
          "output_type": "display_data",
          "data": {
            "text/plain": [
              "Output()"
            ],
            "application/vnd.jupyter.widget-view+json": {
              "version_major": 2,
              "version_minor": 0,
              "model_id": "e34564041e3c4da9b9c89d3f3642a2c0"
            }
          },
          "metadata": {
            "application/vnd.jupyter.widget-view+json": {
              "colab": {
                "custom_widget_manager": {
                  "url": "https://ssl.gstatic.com/colaboratory-static/widgets/colab-cdn-widget-manager/2b70e893a8ba7c0f/manager.min.js"
                }
              }
            }
          }
        },
        {
          "output_type": "display_data",
          "data": {
            "text/plain": [
              "HBox(children=(Text(value='', description='Choice:', placeholder='Enter 1-5'), Button(description='Submit', st\u2026"
            ],
            "application/vnd.jupyter.widget-view+json": {
              "version_major": 2,
              "version_minor": 0,
              "model_id": "af506ac1156a475e83baa4aa952a31a5"
            }
          },
          "metadata": {
            "application/vnd.jupyter.widget-view+json": {
              "colab": {
                "custom_widget_manager": {
                  "url": "https://ssl.gstatic.com/colaboratory-static/widgets/colab-cdn-widget-manager/2b70e893a8ba7c0f/manager.min.js"
                }
              }
            }
          }
        },
        {
          "output_type": "display_data",
          "data": {
            "text/plain": [
              "Button(description='Back to Main Menu', layout=Layout(display='none'), style=ButtonStyle())"
            ],
            "application/vnd.jupyter.widget-view+json": {
              "version_major": 2,
              "version_minor": 0,
              "model_id": "1894a9ba4f8442a1b1bd376070ae79f3"
            }
          },
          "metadata": {
            "application/vnd.jupyter.widget-view+json": {
              "colab": {
                "custom_widget_manager": {
                  "url": "https://ssl.gstatic.com/colaboratory-static/widgets/colab-cdn-widget-manager/2b70e893a8ba7c0f/manager.min.js"
                }
              }
            }
          }
        }
      ]
    },
    {
      "cell_type": "markdown",
      "id": "d643a53c",
      "metadata": {
        "id": "d643a53c"
      },
      "source": [
        "## \ud83e\udde9 Main Application Logic"
      ]
    },
    {
      "cell_type": "code",
      "execution_count": null,
      "id": "a9e2e805",
      "metadata": {
        "id": "a9e2e805"
      },
      "outputs": [],
      "source": [
        "# Tie everything together here\n",
        "def generate_weather_response(parsed_question, weather_data):\n",
        "    \"\"\"\n",
        "    Generate a natural language response to a weather question.\n",
        "\n",
        "    Args:\n",
        "        parsed_question (dict): Parsed question data\n",
        "        weather_data (dict): Weather data\n",
        "\n",
        "    Returns:\n",
        "        str: Natural language response\n",
        "    \"\"\"\n",
        "    pass"
      ]
    },
    {
      "cell_type": "markdown",
      "id": "fde44479",
      "metadata": {
        "id": "fde44479"
      },
      "source": [
        "## \ud83e\uddea Testing and Examples"
      ]
    },
    {
      "cell_type": "code",
      "execution_count": null,
      "id": "4e573901",
      "metadata": {
        "id": "4e573901"
      },
      "outputs": [],
      "source": [
        "# Include sample input/output for each function"
      ]
    },
    {
      "cell_type": "markdown",
      "id": "d2885880",
      "metadata": {
        "id": "d2885880"
      },
      "source": [
        "## \ud83d\uddc2\ufe0f AI Prompting Log (Optional)\n",
        "Add markdown cells here summarising prompts used or link to AI conversations in the `ai-conversations/` folder."
      ]
    }
  ],
  "metadata": {
    "language_info": {
      "name": "python"
    },
    "colab": {
      "provenance": [],
      "include_colab_link": true
    },
    "kernelspec": {
      "name": "python3",
      "display_name": "Python 3"
    }
  },
  "nbformat": 4,
  "nbformat_minor": 5
}