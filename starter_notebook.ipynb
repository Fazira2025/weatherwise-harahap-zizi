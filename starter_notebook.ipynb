{
  "cells": [
    {
      "cell_type": "markdown",
      "metadata": {
        "id": "view-in-github",
        "colab_type": "text"
      },
      "source": [
        "<a href=\"https://colab.research.google.com/github/Fazira2025/weatherwise-harahap-zizi/blob/main/starter_notebook.ipynb\" target=\"_parent\"><img src=\"https://colab.research.google.com/assets/colab-badge.svg\" alt=\"Open In Colab\"/></a>"
      ]
    },
    {
      "cell_type": "markdown",
      "id": "72e78a05",
      "metadata": {
        "id": "72e78a05"
      },
      "source": [
        "# 🌦️ WeatherWise – Starter Notebook\n",
        "\n",
        "Welcome to your **WeatherWise** project notebook! This scaffold is designed to help you build your weather advisor app using Python, visualisations, and AI-enhanced development.\n",
        "\n",
        "---\n"
      ]
    },
    {
      "cell_type": "markdown",
      "id": "59ae7543",
      "metadata": {
        "id": "59ae7543"
      },
      "source": [
        "## 📦 Setup and Configuration\n",
        "Import required packages and setup environment."
      ]
    },
    {
      "cell_type": "code",
      "execution_count": 1,
      "id": "f1dd051e",
      "metadata": {
        "id": "f1dd051e"
      },
      "outputs": [],
      "source": [
        "import requests\n",
        "import matplotlib.pyplot as plt"
      ]
    },
    {
      "cell_type": "markdown",
      "id": "f736ade3",
      "metadata": {
        "id": "f736ade3"
      },
      "source": [
        "## 🌤️ Weather Data Functions"
      ]
    },
    {
      "cell_type": "code",
      "execution_count": 2,
      "id": "7a2c7cd0",
      "metadata": {
        "id": "7a2c7cd0"
      },
      "outputs": [],
      "source": [
        "def get_weather_data(location, format_type='plaintext'):\n",
        "    \"\"\"\n",
        "    Get weather data from wttr.in API\n",
        "    Args:\n",
        "        location (str): City name or location\n",
        "    Returns:\n",
        "        str: Weather data in text format or None if an error occurs\n",
        "    Raises:\n",
        "        Various requests exceptions which are caught and printed\n",
        "    \"\"\"\n",
        "    try:\n",
        "        if format_type.lower() == \"json\":\n",
        "            url = f'https://wttr.in/{location}?format=j1'\n",
        "        else:\n",
        "            url = f'https://wttr.in/{location}'\n",
        "\n",
        "        response = requests.get(url, timeout=10)\n",
        "        response.raise_for_status()\n",
        "\n",
        "        if format_type.lower() == \"json\":\n",
        "            return response.json()\n",
        "        else:\n",
        "            print(response.text)\n",
        "            return None\n",
        "    except requests.exceptions.HTTPError as errh:\n",
        "        print(f\"HTTP Error: {errh}\")\n",
        "    except requests.exceptions.ConnectionError as errc:\n",
        "        print(f\"Connection Error: {errc}\")\n",
        "    except requests.exceptions.Timeout as errt:\n",
        "        print(f\"Timeout Error: {errt}\")\n",
        "    except requests.exceptions.TooManyRedirects as errr:\n",
        "        print(f\"Redirect Error: {errr}\")\n",
        "    except requests.exceptions.RequestException as err:\n",
        "        print(f\"Unknown Error: {err}\")\n",
        "\n",
        "    return None"
      ]
    },
    {
      "cell_type": "markdown",
      "id": "8a744fdc",
      "metadata": {
        "id": "8a744fdc"
      },
      "source": [
        "## 📊 Visualisation Functions"
      ]
    },
    {
      "cell_type": "code",
      "source": [
        "def create_temperature_visualisation(location):\n",
        "    data = get_weather_data(location, format_type=\"json\")\n",
        "    if data is None:\n",
        "        print(\"Failed to retrieve weather data.\")\n",
        "        return\n",
        "\n",
        "    try:\n",
        "        weather_days = data['weather']  # List of daily forecasts\n",
        "    except KeyError:\n",
        "        print(\"Unexpected data format.\")\n",
        "        return\n",
        "\n",
        "    print(\"-\" * 53)\n",
        "    print(f\"{'ACTIVITY':^53}\")\n",
        "    print(\"-\" * 53)\n",
        "\n",
        "    # For demonstration, show info for each day in the forecast\n",
        "    for day in weather_days:\n",
        "        date = day.get('date', 'Unknown Date')\n",
        "        # Format date nicely (optional: convert 'YYYY-MM-DD' to e.g. Thursday, 22 May 2025)\n",
        "        # Let's do simple parsing using datetime:\n",
        "        from datetime import datetime\n",
        "        try:\n",
        "            dt_obj = datetime.strptime(date, \"%Y-%m-%d\")\n",
        "            formatted_date = dt_obj.strftime(\"%A, %d %B %Y\")\n",
        "        except Exception:\n",
        "            formatted_date = date\n",
        "\n",
        "        weather_desc = day.get('hourly', [{}])[4].get('weatherDesc', [{'value': 'N/A'}])[0]['value']  # Midday weather desc\n",
        "        mintempC = day.get('mintempC', 'N/A')\n",
        "        maxtempC = day.get('maxtempC', 'N/A')\n",
        "        avgtempC = day.get('avgtempC', 'N/A')\n",
        "\n",
        "        print(f\"Location   : {location.capitalize()}\")\n",
        "        print(f\"Date       : {formatted_date}\")\n",
        "        print(f\"Weather    : {weather_desc}\")\n",
        "        print(f\"Temperature: Min {mintempC}°C | Max {maxtempC}°C | Avg {avgtempC}°C\")\n",
        "        print(\"-\" * 53)"
      ],
      "metadata": {
        "id": "1X4cjkvScgJF"
      },
      "id": "1X4cjkvScgJF",
      "execution_count": 3,
      "outputs": []
    },
    {
      "cell_type": "code",
      "execution_count": 4,
      "id": "9dc3bf85",
      "metadata": {
        "id": "9dc3bf85"
      },
      "outputs": [],
      "source": [
        "def create_precipitation_visualisation(location, day_index=0):\n",
        "    data = get_weather_data(location, 'json')\n",
        "    if not data:\n",
        "        print(\"Failed to get data.\")\n",
        "        return\n",
        "\n",
        "    hourly = data['weather'][day_index]['hourly']\n",
        "    times = [f\"{int(h['time'])//100:02d}:00\" for h in hourly]\n",
        "    precip = [float(h['precipMM']) for h in hourly]\n",
        "    rain_chance = [int(h['chanceofrain']) for h in hourly]\n",
        "\n",
        "    fig, ax1 = plt.subplots()\n",
        "\n",
        "    ax1.plot(times, precip, 'b-o', label='Precipitation (mm)')\n",
        "    ax1.set_xlabel('Time')\n",
        "    ax1.set_ylabel('Precipitation (mm)', color='b')\n",
        "    ax1.tick_params(axis='y', labelcolor='b')\n",
        "\n",
        "    ax2 = ax1.twinx()\n",
        "    ax2.plot(times, rain_chance, 'g--x', label='Chance of Rain (%)')\n",
        "    ax2.set_ylabel('Chance of Rain (%)', color='g')\n",
        "    ax2.tick_params(axis='y', labelcolor='g')\n",
        "\n",
        "    if day_index == 0:\n",
        "        days = 'Today'\n",
        "    elif day_index == 1:\n",
        "        days = 'Tomorrow'\n",
        "    else:\n",
        "        days = 'After-Tomorrow'\n",
        "\n",
        "    plt.title(f'{days} Graphical Representation of Precipitation and Rainfall Probability at {location.capitalize()}')\n",
        "    plt.grid(True)\n",
        "    plt.show()"
      ]
    },
    {
      "cell_type": "markdown",
      "id": "9f95d160",
      "metadata": {
        "id": "9f95d160"
      },
      "source": [
        "## 🤖 Natural Language Processing"
      ]
    },
    {
      "cell_type": "markdown",
      "id": "0d85225e",
      "metadata": {
        "id": "0d85225e"
      },
      "source": [
        "## 🧭 User Interface"
      ]
    },
    {
      "cell_type": "code",
      "execution_count": 5,
      "id": "fa6cb0f6",
      "metadata": {
        "id": "fa6cb0f6"
      },
      "outputs": [],
      "source": [
        "def main():\n",
        "  name = input('🤖: Hi! Please enter your name: ')\n",
        "  location = input(f'🤖: Which location would you like to check, {name}? ')\n",
        "  while True:\n",
        "        print(f'🤖 Hello! {name}, Welcome to Weather Wise. How can I help you at {location}?')\n",
        "        print(\"-\" * 53)\n",
        "        print('Please enter your choice (1 - 5):')\n",
        "        print(f'1. Check Current Weather & View Weather Forecast at {location}')\n",
        "        print(f'2. Check Current Weather Hourly at {location}')\n",
        "        print(f'3. Activities Suggestions & Weather Prediction assistant at {location}')\n",
        "        print('4. Check Other Location')\n",
        "        print('5. Exit Program')\n",
        "\n",
        "        choice = input('Enter your choice (1-5): ')\n",
        "\n",
        "        if choice == \"1\":\n",
        "           get_weather_data(location)\n",
        "        elif choice == \"2\":\n",
        "            print(\"Select day for weather visualization:\")\n",
        "            print(\"1. Today\")\n",
        "            print(\"2. Tomorrow\")\n",
        "            print(\"3. Day after tomorrow\")\n",
        "            day_choice = input(\"Enter choice (1-3): \").strip()\n",
        "            if day_choice in ['1', '2', '3']:\n",
        "                day_index = int(day_choice) - 1  # Convert to 0-based index\n",
        "            else:\n",
        "                print(\"Invalid choice, defaulting to Today.\")\n",
        "                day_index = 0\n",
        "            create_precipitation_visualisation(location, day_index=day_index)\n",
        "        elif choice == \"3\":\n",
        "            create_temperature_visualisation(location)\n",
        "        elif choice == \"4\":\n",
        "            location = input(\"Enter new location: \")\n",
        "            print(f\"Location updated to {location}\")\n",
        "        elif choice == \"5\":\n",
        "            print(f'Thankyou! Have a nice day {name} 🌸')\n",
        "            break\n",
        "        else:\n",
        "            print(\"\\033[1;31mInvalid choice. Please type 1-5 as a number!\\033[0m\") #error_handling\n"
      ]
    },
    {
      "cell_type": "markdown",
      "id": "d643a53c",
      "metadata": {
        "id": "d643a53c"
      },
      "source": [
        "## 🧩 Main Application Logic"
      ]
    },
    {
      "cell_type": "code",
      "execution_count": 6,
      "id": "a9e2e805",
      "metadata": {
        "id": "a9e2e805",
        "outputId": "53987f47-9758-4f33-d398-cd423c3aa962",
        "colab": {
          "base_uri": "https://localhost:8080/",
          "height": 1000
        }
      },
      "outputs": [
        {
          "name": "stdout",
          "output_type": "stream",
          "text": [
            "=====================================================\n",
            "\u001b[1;94m                    Weather Wise                   \u001b[0m\n",
            "=====================================================\n",
            "🤖: Hi! Please enter your name: Z\n",
            "🤖: Which location would you like to check, Z? Perth\n",
            "🤖 Hello! Z, Welcome to Weather Wise. How can I help you at Perth?\n",
            "-----------------------------------------------------\n",
            "Please enter your choice (1 - 5):\n",
            "1. Check Current Weather & View Weather Forecast at Perth\n",
            "2. Check Current Weather Hourly at Perth\n",
            "3. Activities Suggestions & Weather Prediction assistant at Perth\n",
            "4. Check Other Location\n",
            "5. Exit Program\n",
            "Enter your choice (1-5): 3\n",
            "-----------------------------------------------------\n",
            "                      ACTIVITY                       \n",
            "-----------------------------------------------------\n",
            "Location   : Perth\n",
            "Date       : Friday, 23 May 2025\n",
            "Weather    : Patchy rain nearby\n",
            "Temperature: Min 13°C | Max 16°C | Avg 15°C\n",
            "-----------------------------------------------------\n",
            "Location   : Perth\n",
            "Date       : Saturday, 24 May 2025\n",
            "Weather    : Partly Cloudy \n",
            "Temperature: Min 11°C | Max 15°C | Avg 13°C\n",
            "-----------------------------------------------------\n",
            "Location   : Perth\n",
            "Date       : Sunday, 25 May 2025\n",
            "Weather    : Patchy rain nearby\n",
            "Temperature: Min 14°C | Max 19°C | Avg 16°C\n",
            "-----------------------------------------------------\n",
            "🤖 Hello! Z, Welcome to Weather Wise. How can I help you at Perth?\n",
            "-----------------------------------------------------\n",
            "Please enter your choice (1 - 5):\n",
            "1. Check Current Weather & View Weather Forecast at Perth\n",
            "2. Check Current Weather Hourly at Perth\n",
            "3. Activities Suggestions & Weather Prediction assistant at Perth\n",
            "4. Check Other Location\n",
            "5. Exit Program\n",
            "Enter your choice (1-5): 4\n",
            "Enter new location: Jakarta\n",
            "Location updated to Jakarta\n",
            "🤖 Hello! Z, Welcome to Weather Wise. How can I help you at Jakarta?\n",
            "-----------------------------------------------------\n",
            "Please enter your choice (1 - 5):\n",
            "1. Check Current Weather & View Weather Forecast at Jakarta\n",
            "2. Check Current Weather Hourly at Jakarta\n",
            "3. Activities Suggestions & Weather Prediction assistant at Jakarta\n",
            "4. Check Other Location\n",
            "5. Exit Program\n",
            "Enter your choice (1-5): 3\n",
            "-----------------------------------------------------\n",
            "                      ACTIVITY                       \n",
            "-----------------------------------------------------\n",
            "Location   : Jakarta\n",
            "Date       : Thursday, 22 May 2025\n",
            "Weather    : Patchy light rain\n",
            "Temperature: Min 25°C | Max 28°C | Avg 26°C\n",
            "-----------------------------------------------------\n",
            "Location   : Jakarta\n",
            "Date       : Friday, 23 May 2025\n",
            "Weather    : Light rain shower\n",
            "Temperature: Min 24°C | Max 25°C | Avg 25°C\n",
            "-----------------------------------------------------\n",
            "Location   : Jakarta\n",
            "Date       : Saturday, 24 May 2025\n",
            "Weather    : Partly Cloudy \n",
            "Temperature: Min 25°C | Max 32°C | Avg 28°C\n",
            "-----------------------------------------------------\n",
            "🤖 Hello! Z, Welcome to Weather Wise. How can I help you at Jakarta?\n",
            "-----------------------------------------------------\n",
            "Please enter your choice (1 - 5):\n",
            "1. Check Current Weather & View Weather Forecast at Jakarta\n",
            "2. Check Current Weather Hourly at Jakarta\n",
            "3. Activities Suggestions & Weather Prediction assistant at Jakarta\n",
            "4. Check Other Location\n",
            "5. Exit Program\n",
            "Enter your choice (1-5): 1\n",
            "Weather report: Jakarta\n",
            "\n",
            "  \u001b[38;5;240;1m     .-.     \u001b[0m Rain with thunderstorm, rain\n",
            "  \u001b[38;5;240;1m    (   ).   \u001b[0m \u001b[38;5;220m+78\u001b[0m(\u001b[38;5;214m84\u001b[0m) °F\u001b[0m     \n",
            "  \u001b[38;5;240;1m   (___(__)  \u001b[0m \u001b[1m↗\u001b[0m \u001b[38;5;118m2\u001b[0m mph\u001b[0m        \n",
            "  \u001b[38;5;21;1m  ‚‘\u001b[38;5;228;5m⚡\u001b[38;5;21;25m‘‚\u001b[38;5;228;5m⚡\u001b[38;5;21;25m‚‘ \u001b[0m 1 mi\u001b[0m           \n",
            "  \u001b[38;5;21;1m  ‚’‚’\u001b[38;5;228;5m⚡\u001b[38;5;21;25m’‚’  \u001b[0m 0.0 in\u001b[0m         \n",
            "                                                       ┌─────────────┐                                                       \n",
            "┌──────────────────────────────┬───────────────────────┤  Fri 23 May ├───────────────────────┬──────────────────────────────┐\n",
            "│            Morning           │             Noon      └──────┬──────┘     Evening           │             Night            │\n",
            "├──────────────────────────────┼──────────────────────────────┼──────────────────────────────┼──────────────────────────────┤\n",
            "│ \u001b[38;5;226m _`/\"\"\u001b[38;5;250m.-.    \u001b[0m Light rain sho…│ \u001b[38;5;226m _`/\"\"\u001b[38;5;250m.-.    \u001b[0m Light rain sho…│ \u001b[38;5;250m     .-.     \u001b[0m Light rain     │ \u001b[38;5;226m _`/\"\"\u001b[38;5;250m.-.    \u001b[0m Patchy rain ne…│\n",
            "│ \u001b[38;5;226m  ,\\_\u001b[38;5;250m(   ).  \u001b[0m \u001b[38;5;220m+78\u001b[0m(\u001b[38;5;214m84\u001b[0m) °F\u001b[0m     │ \u001b[38;5;226m  ,\\_\u001b[38;5;250m(   ).  \u001b[0m \u001b[38;5;220m+77\u001b[0m(\u001b[38;5;214m82\u001b[0m) °F\u001b[0m     │ \u001b[38;5;250m    (   ).   \u001b[0m \u001b[38;5;226m+75\u001b[0m(\u001b[38;5;220m78\u001b[0m) °F\u001b[0m     │ \u001b[38;5;226m  ,\\_\u001b[38;5;250m(   ).  \u001b[0m \u001b[38;5;226m+75\u001b[0m(\u001b[38;5;220m80\u001b[0m) °F\u001b[0m     │\n",
            "│ \u001b[38;5;226m   /\u001b[38;5;250m(___(__) \u001b[0m \u001b[1m←\u001b[0m \u001b[38;5;118m3\u001b[0m-\u001b[38;5;154m5\u001b[0m mph\u001b[0m      │ \u001b[38;5;226m   /\u001b[38;5;250m(___(__) \u001b[0m \u001b[1m↗\u001b[0m \u001b[38;5;154m5\u001b[0m-\u001b[38;5;226m9\u001b[0m mph\u001b[0m      │ \u001b[38;5;250m   (___(__)  \u001b[0m \u001b[1m↗\u001b[0m \u001b[38;5;226m8\u001b[0m-\u001b[38;5;220m10\u001b[0m mph\u001b[0m     │ \u001b[38;5;226m   /\u001b[38;5;250m(___(__) \u001b[0m \u001b[1m↗\u001b[0m \u001b[38;5;154m4\u001b[0m-\u001b[38;5;190m7\u001b[0m mph\u001b[0m      │\n",
            "│ \u001b[38;5;111m     ‘ ‘ ‘ ‘ \u001b[0m 6 mi\u001b[0m           │ \u001b[38;5;111m     ‘ ‘ ‘ ‘ \u001b[0m 6 mi\u001b[0m           │ \u001b[38;5;111m    ‘ ‘ ‘ ‘  \u001b[0m 5 mi\u001b[0m           │ \u001b[38;5;111m     ‘ ‘ ‘ ‘ \u001b[0m 6 mi\u001b[0m           │\n",
            "│ \u001b[38;5;111m    ‘ ‘ ‘ ‘  \u001b[0m 0.0 in | 100%\u001b[0m  │ \u001b[38;5;111m    ‘ ‘ ‘ ‘  \u001b[0m 0.1 in | 100%\u001b[0m  │ \u001b[38;5;111m   ‘ ‘ ‘ ‘   \u001b[0m 0.1 in | 100%\u001b[0m  │ \u001b[38;5;111m    ‘ ‘ ‘ ‘  \u001b[0m 0.0 in | 77%\u001b[0m   │\n",
            "└──────────────────────────────┴──────────────────────────────┴──────────────────────────────┴──────────────────────────────┘\n",
            "                                                       ┌─────────────┐                                                       \n",
            "┌──────────────────────────────┬───────────────────────┤  Sat 24 May ├───────────────────────┬──────────────────────────────┐\n",
            "│            Morning           │             Noon      └──────┬──────┘     Evening           │             Night            │\n",
            "├──────────────────────────────┼──────────────────────────────┼──────────────────────────────┼──────────────────────────────┤\n",
            "│ \u001b[38;5;226m _`/\"\"\u001b[38;5;250m.-.    \u001b[0m Patchy rain ne…│ \u001b[38;5;250m     .-.     \u001b[0m Light rain     │ \u001b[38;5;226m _`/\"\"\u001b[38;5;250m.-.    \u001b[0m Patchy rain ne…│ \u001b[38;5;226m _`/\"\"\u001b[38;5;250m.-.    \u001b[0m Patchy rain ne…│\n",
            "│ \u001b[38;5;226m  ,\\_\u001b[38;5;250m(   ).  \u001b[0m \u001b[38;5;220m+80\u001b[0m(\u001b[38;5;214m86\u001b[0m) °F\u001b[0m     │ \u001b[38;5;250m    (   ).   \u001b[0m \u001b[38;5;214m+86\u001b[0m(\u001b[38;5;202m95\u001b[0m) °F\u001b[0m     │ \u001b[38;5;226m  ,\\_\u001b[38;5;250m(   ).  \u001b[0m \u001b[38;5;214m+84\u001b[0m(\u001b[38;5;208m91\u001b[0m) °F\u001b[0m     │ \u001b[38;5;226m  ,\\_\u001b[38;5;250m(   ).  \u001b[0m \u001b[38;5;220m+80\u001b[0m(\u001b[38;5;208m87\u001b[0m) °F\u001b[0m     │\n",
            "│ \u001b[38;5;226m   /\u001b[38;5;250m(___(__) \u001b[0m \u001b[1m↗\u001b[0m \u001b[38;5;154m4\u001b[0m-\u001b[38;5;154m5\u001b[0m mph\u001b[0m      │ \u001b[38;5;250m   (___(__)  \u001b[0m \u001b[1m↗\u001b[0m \u001b[38;5;226m8\u001b[0m-\u001b[38;5;226m9\u001b[0m mph\u001b[0m      │ \u001b[38;5;226m   /\u001b[38;5;250m(___(__) \u001b[0m \u001b[1m↗\u001b[0m \u001b[38;5;220m10\u001b[0m-\u001b[38;5;202m19\u001b[0m mph\u001b[0m    │ \u001b[38;5;226m   /\u001b[38;5;250m(___(__) \u001b[0m \u001b[1m↗\u001b[0m \u001b[38;5;226m9\u001b[0m-\u001b[38;5;214m14\u001b[0m mph\u001b[0m     │\n",
            "│ \u001b[38;5;111m     ‘ ‘ ‘ ‘ \u001b[0m 6 mi\u001b[0m           │ \u001b[38;5;111m    ‘ ‘ ‘ ‘  \u001b[0m 5 mi\u001b[0m           │ \u001b[38;5;111m     ‘ ‘ ‘ ‘ \u001b[0m 5 mi\u001b[0m           │ \u001b[38;5;111m     ‘ ‘ ‘ ‘ \u001b[0m 6 mi\u001b[0m           │\n",
            "│ \u001b[38;5;111m    ‘ ‘ ‘ ‘  \u001b[0m 0.0 in | 75%\u001b[0m   │ \u001b[38;5;111m   ‘ ‘ ‘ ‘   \u001b[0m 0.1 in | 100%\u001b[0m  │ \u001b[38;5;111m    ‘ ‘ ‘ ‘  \u001b[0m 0.0 in | 100%\u001b[0m  │ \u001b[38;5;111m    ‘ ‘ ‘ ‘  \u001b[0m 0.0 in | 100%\u001b[0m  │\n",
            "└──────────────────────────────┴──────────────────────────────┴──────────────────────────────┴──────────────────────────────┘\n",
            "                                                       ┌─────────────┐                                                       \n",
            "┌──────────────────────────────┬───────────────────────┤  Sun 25 May ├───────────────────────┬──────────────────────────────┐\n",
            "│            Morning           │             Noon      └──────┬──────┘     Evening           │             Night            │\n",
            "├──────────────────────────────┼──────────────────────────────┼──────────────────────────────┼──────────────────────────────┤\n",
            "│ \u001b[38;5;226m _`/\"\"\u001b[38;5;250m.-.    \u001b[0m Patchy rain ne…│ \u001b[38;5;226m _`/\"\"\u001b[38;5;250m.-.    \u001b[0m Light rain sho…│ \u001b[38;5;250m     .-.     \u001b[0m Light drizzle  │ \u001b[38;5;226m _`/\"\"\u001b[38;5;250m.-.    \u001b[0m Light rain sho…│\n",
            "│ \u001b[38;5;226m  ,\\_\u001b[38;5;250m(   ).  \u001b[0m \u001b[38;5;214m+82\u001b[0m(\u001b[38;5;208m87\u001b[0m) °F\u001b[0m     │ \u001b[38;5;226m  ,\\_\u001b[38;5;250m(   ).  \u001b[0m \u001b[38;5;214m+86\u001b[0m(\u001b[38;5;202m95\u001b[0m) °F\u001b[0m     │ \u001b[38;5;250m    (   ).   \u001b[0m \u001b[38;5;214m+84\u001b[0m(\u001b[38;5;202m93\u001b[0m) °F\u001b[0m     │ \u001b[38;5;226m  ,\\_\u001b[38;5;250m(   ).  \u001b[0m \u001b[38;5;214m+82\u001b[0m(\u001b[38;5;208m87\u001b[0m) °F\u001b[0m     │\n",
            "│ \u001b[38;5;226m   /\u001b[38;5;250m(___(__) \u001b[0m \u001b[1m↑\u001b[0m \u001b[38;5;118m3\u001b[0m mph\u001b[0m        │ \u001b[38;5;226m   /\u001b[38;5;250m(___(__) \u001b[0m \u001b[1m→\u001b[0m \u001b[38;5;190m6\u001b[0m-\u001b[38;5;220m9\u001b[0m mph\u001b[0m      │ \u001b[38;5;250m   (___(__)  \u001b[0m \u001b[1m↗\u001b[0m \u001b[38;5;220m10\u001b[0m-\u001b[38;5;208m14\u001b[0m mph\u001b[0m    │ \u001b[38;5;226m   /\u001b[38;5;250m(___(__) \u001b[0m \u001b[1m↗\u001b[0m \u001b[38;5;220m9\u001b[0m-\u001b[38;5;208m15\u001b[0m mph\u001b[0m     │\n",
            "│ \u001b[38;5;111m     ‘ ‘ ‘ ‘ \u001b[0m 6 mi\u001b[0m           │ \u001b[38;5;111m     ‘ ‘ ‘ ‘ \u001b[0m 6 mi\u001b[0m           │ \u001b[38;5;111m    ‘ ‘ ‘ ‘  \u001b[0m 1 mi\u001b[0m           │ \u001b[38;5;111m     ‘ ‘ ‘ ‘ \u001b[0m 6 mi\u001b[0m           │\n",
            "│ \u001b[38;5;111m    ‘ ‘ ‘ ‘  \u001b[0m 0.0 in | 100%\u001b[0m  │ \u001b[38;5;111m    ‘ ‘ ‘ ‘  \u001b[0m 0.0 in | 100%\u001b[0m  │ \u001b[38;5;111m   ‘ ‘ ‘ ‘   \u001b[0m 0.0 in | 100%\u001b[0m  │ \u001b[38;5;111m    ‘ ‘ ‘ ‘  \u001b[0m 0.0 in | 100%\u001b[0m  │\n",
            "└──────────────────────────────┴──────────────────────────────┴──────────────────────────────┴──────────────────────────────┘\n",
            "Location: Jakarta, Gambir, Jakarta Pusat, Daerah Khusus Ibukota Jakarta, Indonesia [-6.1753941,106.827183]\n",
            "\n",
            "Follow \u001b[46m\u001b[30m@igor_chubin\u001b[0m for wttr.in updates\n",
            "\n",
            "🤖 Hello! Z, Welcome to Weather Wise. How can I help you at Jakarta?\n",
            "-----------------------------------------------------\n",
            "Please enter your choice (1 - 5):\n",
            "1. Check Current Weather & View Weather Forecast at Jakarta\n",
            "2. Check Current Weather Hourly at Jakarta\n",
            "3. Activities Suggestions & Weather Prediction assistant at Jakarta\n",
            "4. Check Other Location\n",
            "5. Exit Program\n",
            "Enter your choice (1-5): 2\n",
            "Select day for weather visualization:\n",
            "1. Today\n",
            "2. Tomorrow\n",
            "3. Day after tomorrow\n",
            "Enter choice (1-3): 1\n"
          ]
        },
        {
          "output_type": "display_data",
          "data": {
            "text/plain": [
              "<Figure size 640x480 with 2 Axes>"
            ],
            "image/png": "[encoded data removed]"
          },
          "metadata": {}
        },
        {
          "output_type": "stream",
          "name": "stdout",
          "text": [
            "🤖 Hello! Z, Welcome to Weather Wise. How can I help you at Jakarta?\n",
            "-----------------------------------------------------\n",
            "Please enter your choice (1 - 5):\n",
            "1. Check Current Weather & View Weather Forecast at Jakarta\n",
            "2. Check Current Weather Hourly at Jakarta\n",
            "3. Activities Suggestions & Weather Prediction assistant at Jakarta\n",
            "4. Check Other Location\n",
            "5. Exit Program\n",
            "Enter your choice (1-5): 5\n",
            "Thankyou! Have a nice day Z 🌸\n"
          ]
        }
      ],
      "source": [
        "# Tie everything together here\n",
        "if __name__ == \"__main__\":\n",
        "    title = \"Weather Wise\"\n",
        "    blue_bold = \"\\033[1;94m\"  # 1 for bold, 94 for light blue\n",
        "    color = \"\\033[0m\"\n",
        "\n",
        "    print(\"=\" * 53)\n",
        "    print(\"\" + blue_bold + title.center(51) + color + \"\")\n",
        "    print(\"=\" * 53)\n",
        "\n",
        "    main()"
      ]
    },
    {
      "cell_type": "markdown",
      "id": "fde44479",
      "metadata": {
        "id": "fde44479"
      },
      "source": [
        "## 🧪 Testing and Examples"
      ]
    },
    {
      "cell_type": "code",
      "execution_count": null,
      "id": "4e573901",
      "metadata": {
        "id": "4e573901"
      },
      "outputs": [],
      "source": [
        "# Include sample input/output for each function"
      ]
    },
    {
      "cell_type": "markdown",
      "id": "d2885880",
      "metadata": {
        "id": "d2885880"
      },
      "source": [
        "## 🗂️ AI Prompting Log (Optional)\n",
        "Add markdown cells here summarising prompts used or link to AI conversations in the `ai-conversations/` folder."
      ]
    }
  ],
  "metadata": {
    "language_info": {
      "name": "python"
    },
    "colab": {
      "provenance": [],
      "include_colab_link": true
    },
    "kernelspec": {
      "name": "python3",
      "display_name": "Python 3"
    }
  },
  "nbformat": 4,
  "nbformat_minor": 5
}